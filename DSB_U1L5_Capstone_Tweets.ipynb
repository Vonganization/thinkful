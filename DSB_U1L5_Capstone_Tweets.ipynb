{
  "nbformat": 4,
  "nbformat_minor": 0,
  "metadata": {
    "colab": {
      "name": "DSB_U1L5_Capstone_Tweets.ipynb",
      "version": "0.3.2",
      "provenance": [],
      "collapsed_sections": []
    },
    "kernelspec": {
      "name": "python3",
      "display_name": "Python 3"
    }
  },
  "cells": [
    {
      "metadata": {
        "id": "Cjl_DrZKojfr",
        "colab_type": "text"
      },
      "cell_type": "markdown",
      "source": [
        "# Airline sentiment on Twitter\n",
        "\n",
        "## Abstract:\n",
        "February 17-24, 2015 Twitter data was scraped and contributors were asked to first classify positive, negative, and neutral tweets, followed by categorizing negative reasons (such as “late flight” or “rude service”). The dataset was discovered on [kaggle.com](https://www.kaggle.com/crowdflower/twitter-airline-sentiment) with the original data coming from [figure-eight Data For Everyone](https://www.figure-eight.com/data-for-everyone/). \n",
        "\n",
        "With this dataset, I explore which Airline receives the most negative sentiments. I creating visualizations that show the total sentiments per Airline, each category of negative sentiment by Airline, and then dive deeper into American Airline's problems. "
      ]
    },
    {
      "metadata": {
        "id": "XBLcSDJHlAcd",
        "colab_type": "text"
      },
      "cell_type": "markdown",
      "source": [
        "### Ensure the latest version of seaborn is loaded into notebook"
      ]
    },
    {
      "metadata": {
        "id": "nP5wbx8JlJI9",
        "colab_type": "code",
        "outputId": "1e40c87e-4cb0-439a-f721-1c68ac1b44ab",
        "colab": {
          "base_uri": "https://localhost:8080/",
          "height": 425
        }
      },
      "cell_type": "code",
      "source": [
        "!pip install seaborn --upgrade"
      ],
      "execution_count": 0,
      "outputs": [
        {
          "output_type": "stream",
          "text": [
            "Collecting seaborn\n",
            "\u001b[?25l  Downloading https://files.pythonhosted.org/packages/a8/76/220ba4420459d9c4c9c9587c6ce607bf56c25b3d3d2de62056efe482dadc/seaborn-0.9.0-py3-none-any.whl (208kB)\n",
            "\r\u001b[K    4% |█▋                              | 10kB 15.4MB/s eta 0:00:01\r\u001b[K    9% |███▏                            | 20kB 1.8MB/s eta 0:00:01\r\u001b[K    14% |████▊                           | 30kB 2.7MB/s eta 0:00:01\r\u001b[K    19% |██████▎                         | 40kB 1.7MB/s eta 0:00:01\r\u001b[K    24% |███████▉                        | 51kB 2.1MB/s eta 0:00:01\r\u001b[K    29% |█████████▌                      | 61kB 2.5MB/s eta 0:00:01\r\u001b[K    34% |███████████                     | 71kB 2.9MB/s eta 0:00:01\r\u001b[K    39% |████████████▋                   | 81kB 3.3MB/s eta 0:00:01\r\u001b[K    44% |██████████████▏                 | 92kB 3.7MB/s eta 0:00:01\r\u001b[K    49% |███████████████▊                | 102kB 2.8MB/s eta 0:00:01\r\u001b[K    54% |█████████████████▎              | 112kB 2.9MB/s eta 0:00:01\r\u001b[K    59% |███████████████████             | 122kB 4.0MB/s eta 0:00:01\r\u001b[K    63% |████████████████████▌           | 133kB 4.0MB/s eta 0:00:01\r\u001b[K    68% |██████████████████████          | 143kB 7.7MB/s eta 0:00:01\r\u001b[K    73% |███████████████████████▋        | 153kB 7.8MB/s eta 0:00:01\r\u001b[K    78% |█████████████████████████▏      | 163kB 7.8MB/s eta 0:00:01\r\u001b[K    83% |██████████████████████████▊     | 174kB 7.6MB/s eta 0:00:01\r\u001b[K    88% |████████████████████████████▍   | 184kB 7.7MB/s eta 0:00:01\r\u001b[K    93% |██████████████████████████████  | 194kB 7.7MB/s eta 0:00:01\r\u001b[K    98% |███████████████████████████████▌| 204kB 39.7MB/s eta 0:00:01\r\u001b[K    100% |████████████████████████████████| 215kB 26.3MB/s \n",
            "\u001b[?25hRequirement already satisfied, skipping upgrade: numpy>=1.9.3 in /usr/local/lib/python3.6/dist-packages (from seaborn) (1.14.6)\n",
            "Requirement already satisfied, skipping upgrade: pandas>=0.15.2 in /usr/local/lib/python3.6/dist-packages (from seaborn) (0.22.0)\n",
            "Requirement already satisfied, skipping upgrade: matplotlib>=1.4.3 in /usr/local/lib/python3.6/dist-packages (from seaborn) (3.0.2)\n",
            "Requirement already satisfied, skipping upgrade: scipy>=0.14.0 in /usr/local/lib/python3.6/dist-packages (from seaborn) (1.1.0)\n",
            "Requirement already satisfied, skipping upgrade: python-dateutil>=2 in /usr/local/lib/python3.6/dist-packages (from pandas>=0.15.2->seaborn) (2.5.3)\n",
            "Requirement already satisfied, skipping upgrade: pytz>=2011k in /usr/local/lib/python3.6/dist-packages (from pandas>=0.15.2->seaborn) (2018.9)\n",
            "Requirement already satisfied, skipping upgrade: kiwisolver>=1.0.1 in /usr/local/lib/python3.6/dist-packages (from matplotlib>=1.4.3->seaborn) (1.0.1)\n",
            "Requirement already satisfied, skipping upgrade: pyparsing!=2.0.4,!=2.1.2,!=2.1.6,>=2.0.1 in /usr/local/lib/python3.6/dist-packages (from matplotlib>=1.4.3->seaborn) (2.3.1)\n",
            "Requirement already satisfied, skipping upgrade: cycler>=0.10 in /usr/local/lib/python3.6/dist-packages (from matplotlib>=1.4.3->seaborn) (0.10.0)\n",
            "Requirement already satisfied, skipping upgrade: six>=1.5 in /usr/local/lib/python3.6/dist-packages (from python-dateutil>=2->pandas>=0.15.2->seaborn) (1.11.0)\n",
            "Requirement already satisfied, skipping upgrade: setuptools in /usr/local/lib/python3.6/dist-packages (from kiwisolver>=1.0.1->matplotlib>=1.4.3->seaborn) (40.7.3)\n",
            "Installing collected packages: seaborn\n",
            "  Found existing installation: seaborn 0.7.1\n",
            "    Uninstalling seaborn-0.7.1:\n",
            "      Successfully uninstalled seaborn-0.7.1\n",
            "Successfully installed seaborn-0.9.0\n"
          ],
          "name": "stdout"
        },
        {
          "output_type": "display_data",
          "data": {
            "application/vnd.colab-display-data+json": {
              "pip_warning": {
                "packages": [
                  "seaborn"
                ]
              }
            }
          },
          "metadata": {
            "tags": []
          }
        }
      ]
    },
    {
      "metadata": {
        "id": "XK8QoeriaOb4",
        "colab_type": "text"
      },
      "cell_type": "markdown",
      "source": [
        "### Imports"
      ]
    },
    {
      "metadata": {
        "id": "0zVayzE1Ybml",
        "colab_type": "code",
        "colab": {}
      },
      "cell_type": "code",
      "source": [
        "import pandas as pd\n",
        "import seaborn as sns\n",
        "import datetime\n",
        "import matplotlib.pyplot as plt"
      ],
      "execution_count": 0,
      "outputs": []
    },
    {
      "metadata": {
        "id": "wq-lgk3KZjJr",
        "colab_type": "text"
      },
      "cell_type": "markdown",
      "source": [
        "### Uploading CSV file, adding headers"
      ]
    },
    {
      "metadata": {
        "id": "NEZi4XKCZ5Vm",
        "colab_type": "code",
        "outputId": "0d94af57-f36e-4b81-a4fe-0d6b60ce4427",
        "colab": {
          "base_uri": "https://localhost:8080/",
          "height": 445
        }
      },
      "cell_type": "code",
      "source": [
        "# Import the csv file into a dataframe for analysis and manipulation\n",
        "\n",
        "df = pd.read_csv('https://raw.githubusercontent.com/Vonganization/CSV_datasets/master/Tweets.csv',\n",
        "                 sep=','\n",
        "                )\n",
        "df.head()\n"
      ],
      "execution_count": 0,
      "outputs": [
        {
          "output_type": "execute_result",
          "data": {
            "text/html": [
              "<div>\n",
              "<style scoped>\n",
              "    .dataframe tbody tr th:only-of-type {\n",
              "        vertical-align: middle;\n",
              "    }\n",
              "\n",
              "    .dataframe tbody tr th {\n",
              "        vertical-align: top;\n",
              "    }\n",
              "\n",
              "    .dataframe thead th {\n",
              "        text-align: right;\n",
              "    }\n",
              "</style>\n",
              "<table border=\"1\" class=\"dataframe\">\n",
              "  <thead>\n",
              "    <tr style=\"text-align: right;\">\n",
              "      <th></th>\n",
              "      <th>tweet_id</th>\n",
              "      <th>airline_sentiment</th>\n",
              "      <th>airline_sentiment_confidence</th>\n",
              "      <th>negativereason</th>\n",
              "      <th>negativereason_confidence</th>\n",
              "      <th>airline</th>\n",
              "      <th>airline_sentiment_gold</th>\n",
              "      <th>name</th>\n",
              "      <th>negativereason_gold</th>\n",
              "      <th>retweet_count</th>\n",
              "      <th>text</th>\n",
              "      <th>tweet_coord</th>\n",
              "      <th>tweet_created</th>\n",
              "      <th>tweet_location</th>\n",
              "      <th>user_timezone</th>\n",
              "    </tr>\n",
              "  </thead>\n",
              "  <tbody>\n",
              "    <tr>\n",
              "      <th>0</th>\n",
              "      <td>570306133677760513</td>\n",
              "      <td>neutral</td>\n",
              "      <td>1.0000</td>\n",
              "      <td>NaN</td>\n",
              "      <td>NaN</td>\n",
              "      <td>Virgin America</td>\n",
              "      <td>NaN</td>\n",
              "      <td>cairdin</td>\n",
              "      <td>NaN</td>\n",
              "      <td>0</td>\n",
              "      <td>@VirginAmerica What @dhepburn said.</td>\n",
              "      <td>NaN</td>\n",
              "      <td>2015-02-24 11:35:52 -0800</td>\n",
              "      <td>NaN</td>\n",
              "      <td>Eastern Time (US &amp; Canada)</td>\n",
              "    </tr>\n",
              "    <tr>\n",
              "      <th>1</th>\n",
              "      <td>570301130888122368</td>\n",
              "      <td>positive</td>\n",
              "      <td>0.3486</td>\n",
              "      <td>NaN</td>\n",
              "      <td>0.0000</td>\n",
              "      <td>Virgin America</td>\n",
              "      <td>NaN</td>\n",
              "      <td>jnardino</td>\n",
              "      <td>NaN</td>\n",
              "      <td>0</td>\n",
              "      <td>@VirginAmerica plus you've added commercials t...</td>\n",
              "      <td>NaN</td>\n",
              "      <td>2015-02-24 11:15:59 -0800</td>\n",
              "      <td>NaN</td>\n",
              "      <td>Pacific Time (US &amp; Canada)</td>\n",
              "    </tr>\n",
              "    <tr>\n",
              "      <th>2</th>\n",
              "      <td>570301083672813571</td>\n",
              "      <td>neutral</td>\n",
              "      <td>0.6837</td>\n",
              "      <td>NaN</td>\n",
              "      <td>NaN</td>\n",
              "      <td>Virgin America</td>\n",
              "      <td>NaN</td>\n",
              "      <td>yvonnalynn</td>\n",
              "      <td>NaN</td>\n",
              "      <td>0</td>\n",
              "      <td>@VirginAmerica I didn't today... Must mean I n...</td>\n",
              "      <td>NaN</td>\n",
              "      <td>2015-02-24 11:15:48 -0800</td>\n",
              "      <td>Lets Play</td>\n",
              "      <td>Central Time (US &amp; Canada)</td>\n",
              "    </tr>\n",
              "    <tr>\n",
              "      <th>3</th>\n",
              "      <td>570301031407624196</td>\n",
              "      <td>negative</td>\n",
              "      <td>1.0000</td>\n",
              "      <td>Bad Flight</td>\n",
              "      <td>0.7033</td>\n",
              "      <td>Virgin America</td>\n",
              "      <td>NaN</td>\n",
              "      <td>jnardino</td>\n",
              "      <td>NaN</td>\n",
              "      <td>0</td>\n",
              "      <td>@VirginAmerica it's really aggressive to blast...</td>\n",
              "      <td>NaN</td>\n",
              "      <td>2015-02-24 11:15:36 -0800</td>\n",
              "      <td>NaN</td>\n",
              "      <td>Pacific Time (US &amp; Canada)</td>\n",
              "    </tr>\n",
              "    <tr>\n",
              "      <th>4</th>\n",
              "      <td>570300817074462722</td>\n",
              "      <td>negative</td>\n",
              "      <td>1.0000</td>\n",
              "      <td>Can't Tell</td>\n",
              "      <td>1.0000</td>\n",
              "      <td>Virgin America</td>\n",
              "      <td>NaN</td>\n",
              "      <td>jnardino</td>\n",
              "      <td>NaN</td>\n",
              "      <td>0</td>\n",
              "      <td>@VirginAmerica and it's a really big bad thing...</td>\n",
              "      <td>NaN</td>\n",
              "      <td>2015-02-24 11:14:45 -0800</td>\n",
              "      <td>NaN</td>\n",
              "      <td>Pacific Time (US &amp; Canada)</td>\n",
              "    </tr>\n",
              "  </tbody>\n",
              "</table>\n",
              "</div>"
            ],
            "text/plain": [
              "             tweet_id airline_sentiment  airline_sentiment_confidence  \\\n",
              "0  570306133677760513           neutral                        1.0000   \n",
              "1  570301130888122368          positive                        0.3486   \n",
              "2  570301083672813571           neutral                        0.6837   \n",
              "3  570301031407624196          negative                        1.0000   \n",
              "4  570300817074462722          negative                        1.0000   \n",
              "\n",
              "  negativereason  negativereason_confidence         airline  \\\n",
              "0            NaN                        NaN  Virgin America   \n",
              "1            NaN                     0.0000  Virgin America   \n",
              "2            NaN                        NaN  Virgin America   \n",
              "3     Bad Flight                     0.7033  Virgin America   \n",
              "4     Can't Tell                     1.0000  Virgin America   \n",
              "\n",
              "  airline_sentiment_gold        name negativereason_gold  retweet_count  \\\n",
              "0                    NaN     cairdin                 NaN              0   \n",
              "1                    NaN    jnardino                 NaN              0   \n",
              "2                    NaN  yvonnalynn                 NaN              0   \n",
              "3                    NaN    jnardino                 NaN              0   \n",
              "4                    NaN    jnardino                 NaN              0   \n",
              "\n",
              "                                                text tweet_coord  \\\n",
              "0                @VirginAmerica What @dhepburn said.         NaN   \n",
              "1  @VirginAmerica plus you've added commercials t...         NaN   \n",
              "2  @VirginAmerica I didn't today... Must mean I n...         NaN   \n",
              "3  @VirginAmerica it's really aggressive to blast...         NaN   \n",
              "4  @VirginAmerica and it's a really big bad thing...         NaN   \n",
              "\n",
              "               tweet_created tweet_location               user_timezone  \n",
              "0  2015-02-24 11:35:52 -0800            NaN  Eastern Time (US & Canada)  \n",
              "1  2015-02-24 11:15:59 -0800            NaN  Pacific Time (US & Canada)  \n",
              "2  2015-02-24 11:15:48 -0800      Lets Play  Central Time (US & Canada)  \n",
              "3  2015-02-24 11:15:36 -0800            NaN  Pacific Time (US & Canada)  \n",
              "4  2015-02-24 11:14:45 -0800            NaN  Pacific Time (US & Canada)  "
            ]
          },
          "metadata": {
            "tags": []
          },
          "execution_count": 2
        }
      ]
    },
    {
      "metadata": {
        "id": "dmSFd6xmppTE",
        "colab_type": "text"
      },
      "cell_type": "markdown",
      "source": [
        "### Understanding the data\n",
        "- Checking to see if null values will affect our goal\n",
        "\n",
        " - I can see that we do have null values in some fields, but it will not effect the reports we will be generating"
      ]
    },
    {
      "metadata": {
        "id": "zXPytr8_pGhs",
        "colab_type": "code",
        "outputId": "dfef0acb-b573-473b-c240-d4efeff4fd05",
        "colab": {
          "base_uri": "https://localhost:8080/",
          "height": 357
        }
      },
      "cell_type": "code",
      "source": [
        "df.info()"
      ],
      "execution_count": 0,
      "outputs": [
        {
          "output_type": "stream",
          "text": [
            "<class 'pandas.core.frame.DataFrame'>\n",
            "RangeIndex: 14640 entries, 0 to 14639\n",
            "Data columns (total 15 columns):\n",
            "tweet_id                        14640 non-null int64\n",
            "airline_sentiment               14640 non-null object\n",
            "airline_sentiment_confidence    14640 non-null float64\n",
            "negativereason                  9178 non-null object\n",
            "negativereason_confidence       10522 non-null float64\n",
            "airline                         14640 non-null object\n",
            "airline_sentiment_gold          40 non-null object\n",
            "name                            14640 non-null object\n",
            "negativereason_gold             32 non-null object\n",
            "retweet_count                   14640 non-null int64\n",
            "text                            14640 non-null object\n",
            "tweet_coord                     1019 non-null object\n",
            "tweet_created                   14640 non-null object\n",
            "tweet_location                  9907 non-null object\n",
            "user_timezone                   9820 non-null object\n",
            "dtypes: float64(2), int64(2), object(11)\n",
            "memory usage: 1.7+ MB\n"
          ],
          "name": "stdout"
        }
      ]
    },
    {
      "metadata": {
        "id": "9jlfaUBlqN0r",
        "colab_type": "text"
      },
      "cell_type": "markdown",
      "source": [
        "### Aggregating the data to get a high-level understanding of what we're looking at\n",
        "We will build a visualization with the aggregated date"
      ]
    },
    {
      "metadata": {
        "id": "IPIkMdKnpKMb",
        "colab_type": "code",
        "outputId": "0465e88d-d00f-43fb-b5ee-72886a355d88",
        "colab": {
          "base_uri": "https://localhost:8080/",
          "height": 340
        }
      },
      "cell_type": "code",
      "source": [
        "df_gb = df[['airline_sentiment','airline']].groupby(['airline','airline_sentiment']).size().reset_index()\n",
        "df_gb.columns = ['airline', 'airline_sentiment', 'sentiment_count']\n",
        "print(df_gb)"
      ],
      "execution_count": 0,
      "outputs": [
        {
          "output_type": "stream",
          "text": [
            "           airline airline_sentiment  sentiment_count\n",
            "0         American          negative             1960\n",
            "1         American           neutral              463\n",
            "2         American          positive              336\n",
            "3            Delta          negative              955\n",
            "4            Delta           neutral              723\n",
            "5            Delta          positive              544\n",
            "6        Southwest          negative             1186\n",
            "7        Southwest           neutral              664\n",
            "8        Southwest          positive              570\n",
            "9       US Airways          negative             2263\n",
            "10      US Airways           neutral              381\n",
            "11      US Airways          positive              269\n",
            "12          United          negative             2633\n",
            "13          United           neutral              697\n",
            "14          United          positive              492\n",
            "15  Virgin America          negative              181\n",
            "16  Virgin America           neutral              171\n",
            "17  Virgin America          positive              152\n"
          ],
          "name": "stdout"
        }
      ]
    },
    {
      "metadata": {
        "id": "IzhcLNStuZJy",
        "colab_type": "text"
      },
      "cell_type": "markdown",
      "source": [
        "### Creating a visualization for the dataframe above"
      ]
    },
    {
      "metadata": {
        "id": "huqshb1As584",
        "colab_type": "code",
        "outputId": "8486fea3-d0d9-4012-acfa-3796bd5f6e67",
        "colab": {
          "base_uri": "https://localhost:8080/",
          "height": 367
        }
      },
      "cell_type": "code",
      "source": [
        "x = df_gb['airline'].unique()\n",
        "y_negative = df_gb[df_gb.airline_sentiment=='negative'].sentiment_count.reset_index(drop='True')\n",
        "y_neutral = df_gb[df_gb.airline_sentiment=='neutral'].sentiment_count.reset_index(drop='True')\n",
        "y_positive = df_gb[df_gb.airline_sentiment=='positive'].sentiment_count.reset_index(drop='True')\n",
        "\n",
        "bar_top = y_negative + y_neutral\n",
        "\n",
        "plt.figure(figsize=(20,5))\n",
        "plt.grid(b=True, which='both', axis='y', linestyle='dashed', color='#B2BABB')\n",
        "plt.bar(x, y_negative, color='#F1948A', label='Negative Sentiments')\n",
        "plt.bar(x, y_neutral, bottom=y_negative, color='#F7DC6F', label='Neutral Sentiments')\n",
        "plt.bar(x, y_positive, bottom=bar_top, color='#82E0AA', label='Positive Sentiments')\n",
        "plt.ylabel('Count of Sentiments', fontweight='bold')\n",
        "plt.xlabel('Airlines', fontweight='bold')\n",
        "plt.title('Sentiments by Airline', fontweight='bold')\n",
        "plt.legend(loc='upper right')"
      ],
      "execution_count": 0,
      "outputs": [
        {
          "output_type": "execute_result",
          "data": {
            "text/plain": [
              "<matplotlib.legend.Legend at 0x7f307c7b87b8>"
            ]
          },
          "metadata": {
            "tags": []
          },
          "execution_count": 5
        },
        {
          "output_type": "display_data",
          "data": {
            "image/png": "[encoded data removed]",
            "text/plain": [
              "<Figure size 1440x360 with 1 Axes>"
            ]
          },
          "metadata": {
            "tags": []
          }
        }
      ]
    },
    {
      "metadata": {
        "id": "HA1ub6SS-yki",
        "colab_type": "text"
      },
      "cell_type": "markdown",
      "source": [
        "### Focusing only on the negative reasons for tweets\n",
        "\n"
      ]
    },
    {
      "metadata": {
        "id": "xuBWka-82C7C",
        "colab_type": "code",
        "outputId": "a6d515a0-73df-444d-da88-1a6df2cc56a7",
        "colab": {
          "base_uri": "https://localhost:8080/",
          "height": 390
        }
      },
      "cell_type": "code",
      "source": [
        "df_ng = df[df.airline_sentiment=='negative'][['airline','negativereason']].groupby(['airline','negativereason']).size().reset_index()\n",
        "df_ng.columns = ['airline', 'negativereason', 'reason_count']\n",
        "df_ng.head(11)"
      ],
      "execution_count": 0,
      "outputs": [
        {
          "output_type": "execute_result",
          "data": {
            "text/html": [
              "<div>\n",
              "<style scoped>\n",
              "    .dataframe tbody tr th:only-of-type {\n",
              "        vertical-align: middle;\n",
              "    }\n",
              "\n",
              "    .dataframe tbody tr th {\n",
              "        vertical-align: top;\n",
              "    }\n",
              "\n",
              "    .dataframe thead th {\n",
              "        text-align: right;\n",
              "    }\n",
              "</style>\n",
              "<table border=\"1\" class=\"dataframe\">\n",
              "  <thead>\n",
              "    <tr style=\"text-align: right;\">\n",
              "      <th></th>\n",
              "      <th>airline</th>\n",
              "      <th>negativereason</th>\n",
              "      <th>reason_count</th>\n",
              "    </tr>\n",
              "  </thead>\n",
              "  <tbody>\n",
              "    <tr>\n",
              "      <th>0</th>\n",
              "      <td>American</td>\n",
              "      <td>Bad Flight</td>\n",
              "      <td>87</td>\n",
              "    </tr>\n",
              "    <tr>\n",
              "      <th>1</th>\n",
              "      <td>American</td>\n",
              "      <td>Can't Tell</td>\n",
              "      <td>198</td>\n",
              "    </tr>\n",
              "    <tr>\n",
              "      <th>2</th>\n",
              "      <td>American</td>\n",
              "      <td>Cancelled Flight</td>\n",
              "      <td>246</td>\n",
              "    </tr>\n",
              "    <tr>\n",
              "      <th>3</th>\n",
              "      <td>American</td>\n",
              "      <td>Customer Service Issue</td>\n",
              "      <td>768</td>\n",
              "    </tr>\n",
              "    <tr>\n",
              "      <th>4</th>\n",
              "      <td>American</td>\n",
              "      <td>Damaged Luggage</td>\n",
              "      <td>12</td>\n",
              "    </tr>\n",
              "    <tr>\n",
              "      <th>5</th>\n",
              "      <td>American</td>\n",
              "      <td>Flight Attendant Complaints</td>\n",
              "      <td>87</td>\n",
              "    </tr>\n",
              "    <tr>\n",
              "      <th>6</th>\n",
              "      <td>American</td>\n",
              "      <td>Flight Booking Problems</td>\n",
              "      <td>130</td>\n",
              "    </tr>\n",
              "    <tr>\n",
              "      <th>7</th>\n",
              "      <td>American</td>\n",
              "      <td>Late Flight</td>\n",
              "      <td>249</td>\n",
              "    </tr>\n",
              "    <tr>\n",
              "      <th>8</th>\n",
              "      <td>American</td>\n",
              "      <td>Lost Luggage</td>\n",
              "      <td>149</td>\n",
              "    </tr>\n",
              "    <tr>\n",
              "      <th>9</th>\n",
              "      <td>American</td>\n",
              "      <td>longlines</td>\n",
              "      <td>34</td>\n",
              "    </tr>\n",
              "    <tr>\n",
              "      <th>10</th>\n",
              "      <td>Delta</td>\n",
              "      <td>Bad Flight</td>\n",
              "      <td>64</td>\n",
              "    </tr>\n",
              "  </tbody>\n",
              "</table>\n",
              "</div>"
            ],
            "text/plain": [
              "     airline               negativereason  reason_count\n",
              "0   American                   Bad Flight            87\n",
              "1   American                   Can't Tell           198\n",
              "2   American             Cancelled Flight           246\n",
              "3   American       Customer Service Issue           768\n",
              "4   American              Damaged Luggage            12\n",
              "5   American  Flight Attendant Complaints            87\n",
              "6   American      Flight Booking Problems           130\n",
              "7   American                  Late Flight           249\n",
              "8   American                 Lost Luggage           149\n",
              "9   American                    longlines            34\n",
              "10     Delta                   Bad Flight            64"
            ]
          },
          "metadata": {
            "tags": []
          },
          "execution_count": 6
        }
      ]
    },
    {
      "metadata": {
        "id": "qSpAQ3ufg8N2",
        "colab_type": "text"
      },
      "cell_type": "markdown",
      "source": [
        "### Visualization: showing how each Airline performs per Negative Reason type"
      ]
    },
    {
      "metadata": {
        "id": "7oP-lgh6SghR",
        "colab_type": "code",
        "outputId": "328a67bb-ae85-40d7-ad04-3306ab676ba9",
        "colab": {
          "base_uri": "https://localhost:8080/",
          "height": 441
        }
      },
      "cell_type": "code",
      "source": [
        "# Adds grid-lines to \n",
        "sns.set_style('whitegrid')\n",
        "\n",
        "g_ng = sns.catplot(x='airline', y='reason_count', col='negativereason', data=df_ng, kind='bar', palette='deep', height=3, aspect=1, col_wrap=5)\n",
        "g_ng.set_axis_labels('', 'Count').set_titles('{col_name}').set_xticklabels(rotation=90);\n",
        "plt.tight_layout()\n",
        "plt.show()"
      ],
      "execution_count": 0,
      "outputs": [
        {
          "output_type": "display_data",
          "data": {
            "image/png": "[encoded data removed]",
            "text/plain": [
              "<Figure size 1080x432 with 10 Axes>"
            ]
          },
          "metadata": {
            "tags": []
          }
        }
      ]
    },
    {
      "metadata": {
        "id": "2I1H8u_cARfx",
        "colab_type": "text"
      },
      "cell_type": "markdown",
      "source": [
        "### Before we begin to draw conclusion, we should look at the Tweets over time\n",
        "\n",
        "### We begin by creating a dataframe for only negative Tweets"
      ]
    },
    {
      "metadata": {
        "id": "Fl-EtqUK_fNY",
        "colab_type": "code",
        "outputId": "1ff6face-568d-421b-c7ef-5aaf09def842",
        "colab": {
          "base_uri": "https://localhost:8080/",
          "height": 359
        }
      },
      "cell_type": "code",
      "source": [
        "# Creating a dataframe of only negative Tweets\n",
        "df_ng_time = df[df.airline_sentiment=='negative'][['airline', 'tweet_created']]\n",
        "\n",
        "# Converting the 'Tweet Created' column into an actual datetime type\n",
        "# dt.date used to extract only the date part of datetime\n",
        "df_ng_time['datestamp']= pd.to_datetime(df_ng_time['tweet_created'], infer_datetime_format=True, errors='coerce').dt.date\n",
        "\n",
        "# Cleaning up the dataframe: turning the series back into a dataframe and updating the headers\n",
        "df_ng_time_agg = df_ng_time[['airline', 'datestamp']].groupby(['datestamp', 'airline']).size().reset_index()\n",
        "df_ng_time_agg.columns = ['datestamp', 'airline', 'n_count']\n",
        "\n",
        "# Display only the first 10 values in the dataframe\n",
        "df_ng_time_agg.head(10)"
      ],
      "execution_count": 0,
      "outputs": [
        {
          "output_type": "execute_result",
          "data": {
            "text/html": [
              "<div>\n",
              "<style scoped>\n",
              "    .dataframe tbody tr th:only-of-type {\n",
              "        vertical-align: middle;\n",
              "    }\n",
              "\n",
              "    .dataframe tbody tr th {\n",
              "        vertical-align: top;\n",
              "    }\n",
              "\n",
              "    .dataframe thead th {\n",
              "        text-align: right;\n",
              "    }\n",
              "</style>\n",
              "<table border=\"1\" class=\"dataframe\">\n",
              "  <thead>\n",
              "    <tr style=\"text-align: right;\">\n",
              "      <th></th>\n",
              "      <th>datestamp</th>\n",
              "      <th>airline</th>\n",
              "      <th>n_count</th>\n",
              "    </tr>\n",
              "  </thead>\n",
              "  <tbody>\n",
              "    <tr>\n",
              "      <th>0</th>\n",
              "      <td>2015-02-17</td>\n",
              "      <td>Delta</td>\n",
              "      <td>51</td>\n",
              "    </tr>\n",
              "    <tr>\n",
              "      <th>1</th>\n",
              "      <td>2015-02-17</td>\n",
              "      <td>Southwest</td>\n",
              "      <td>162</td>\n",
              "    </tr>\n",
              "    <tr>\n",
              "      <th>2</th>\n",
              "      <td>2015-02-17</td>\n",
              "      <td>US Airways</td>\n",
              "      <td>156</td>\n",
              "    </tr>\n",
              "    <tr>\n",
              "      <th>3</th>\n",
              "      <td>2015-02-17</td>\n",
              "      <td>United</td>\n",
              "      <td>173</td>\n",
              "    </tr>\n",
              "    <tr>\n",
              "      <th>4</th>\n",
              "      <td>2015-02-17</td>\n",
              "      <td>Virgin America</td>\n",
              "      <td>10</td>\n",
              "    </tr>\n",
              "    <tr>\n",
              "      <th>5</th>\n",
              "      <td>2015-02-18</td>\n",
              "      <td>Delta</td>\n",
              "      <td>127</td>\n",
              "    </tr>\n",
              "    <tr>\n",
              "      <th>6</th>\n",
              "      <td>2015-02-18</td>\n",
              "      <td>Southwest</td>\n",
              "      <td>143</td>\n",
              "    </tr>\n",
              "    <tr>\n",
              "      <th>7</th>\n",
              "      <td>2015-02-18</td>\n",
              "      <td>US Airways</td>\n",
              "      <td>259</td>\n",
              "    </tr>\n",
              "    <tr>\n",
              "      <th>8</th>\n",
              "      <td>2015-02-18</td>\n",
              "      <td>United</td>\n",
              "      <td>281</td>\n",
              "    </tr>\n",
              "    <tr>\n",
              "      <th>9</th>\n",
              "      <td>2015-02-18</td>\n",
              "      <td>Virgin America</td>\n",
              "      <td>17</td>\n",
              "    </tr>\n",
              "  </tbody>\n",
              "</table>\n",
              "</div>"
            ],
            "text/plain": [
              "    datestamp         airline  n_count\n",
              "0  2015-02-17           Delta       51\n",
              "1  2015-02-17       Southwest      162\n",
              "2  2015-02-17      US Airways      156\n",
              "3  2015-02-17          United      173\n",
              "4  2015-02-17  Virgin America       10\n",
              "5  2015-02-18           Delta      127\n",
              "6  2015-02-18       Southwest      143\n",
              "7  2015-02-18      US Airways      259\n",
              "8  2015-02-18          United      281\n",
              "9  2015-02-18  Virgin America       17"
            ]
          },
          "metadata": {
            "tags": []
          },
          "execution_count": 17
        }
      ]
    },
    {
      "metadata": {
        "id": "9N8C9oO_hdD_",
        "colab_type": "text"
      },
      "cell_type": "markdown",
      "source": [
        "### Now we create the Visualization for the dataframe"
      ]
    },
    {
      "metadata": {
        "id": "Fy3Fent5_4nh",
        "colab_type": "code",
        "outputId": "36e939b2-bd70-4492-920b-10ce9e03b97b",
        "colab": {
          "base_uri": "https://localhost:8080/",
          "height": 513
        }
      },
      "cell_type": "code",
      "source": [
        "plt.figure(figsize=(20,8))\n",
        "plt.plot(df_ng_time_agg[df_ng_time_agg.airline=='American'].datestamp, df_ng_time_agg[df_ng_time_agg.airline=='American'].n_count, color='#1A5276', label='American');\n",
        "plt.plot(df_ng_time_agg[df_ng_time_agg.airline=='Delta'].datestamp, df_ng_time_agg[df_ng_time_agg.airline=='Delta'].n_count, color='#196F3D', label='Delta')\n",
        "plt.plot(df_ng_time_agg[df_ng_time_agg.airline=='Southwest'].datestamp, df_ng_time_agg[df_ng_time_agg.airline=='Southwest'].n_count, color='#D4AC0D', label='Southwest')\n",
        "plt.plot(df_ng_time_agg[df_ng_time_agg.airline=='US Airways'].datestamp, df_ng_time_agg[df_ng_time_agg.airline=='US Airways'].n_count, color='red', label='US Airways')\n",
        "plt.plot(df_ng_time_agg[df_ng_time_agg.airline=='United'].datestamp, df_ng_time_agg[df_ng_time_agg.airline=='United'].n_count, color='#633974', label='United')\n",
        "plt.plot(df_ng_time_agg[df_ng_time_agg.airline=='Virgin America'].datestamp, df_ng_time_agg[df_ng_time_agg.airline=='Virgin America'].n_count, color='#7B241C', label='Virgin America')\n",
        "plt.title('Negative Sentiment over time per Airline', fontweight='bold')\n",
        "plt.ylabel('Count', fontweight='bold')\n",
        "plt.xlabel('Date', fontweight='bold')\n",
        "plt.grid(b=True, which='both', linestyle='dashed', color='black')\n",
        "plt.legend(loc='upper left')\n",
        "plt.show;\n"
      ],
      "execution_count": 0,
      "outputs": [
        {
          "output_type": "display_data",
          "data": {
            "image/png": "[encoded data removed]",
            "text/plain": [
              "<Figure size 1440x576 with 1 Axes>"
            ]
          },
          "metadata": {
            "tags": []
          }
        }
      ]
    },
    {
      "metadata": {
        "id": "pmOThiOPhr7P",
        "colab_type": "text"
      },
      "cell_type": "markdown",
      "source": [
        "### I see an abnormality, that American doesn't have any Tweets until 2015-02-19.\n",
        "\n",
        "### I begin to investigate further:\n",
        "- I'll look at the aggregated data to see if there is data not being represented"
      ]
    },
    {
      "metadata": {
        "id": "BryFl5LAUf6m",
        "colab_type": "code",
        "outputId": "1d1b880c-7142-4fa7-ef00-1af5c58bcdd6",
        "colab": {
          "base_uri": "https://localhost:8080/",
          "height": 235
        }
      },
      "cell_type": "code",
      "source": [
        "df_ng_time_agg[df_ng_time_agg.airline=='American']"
      ],
      "execution_count": 0,
      "outputs": [
        {
          "output_type": "execute_result",
          "data": {
            "text/html": [
              "<div>\n",
              "<style scoped>\n",
              "    .dataframe tbody tr th:only-of-type {\n",
              "        vertical-align: middle;\n",
              "    }\n",
              "\n",
              "    .dataframe tbody tr th {\n",
              "        vertical-align: top;\n",
              "    }\n",
              "\n",
              "    .dataframe thead th {\n",
              "        text-align: right;\n",
              "    }\n",
              "</style>\n",
              "<table border=\"1\" class=\"dataframe\">\n",
              "  <thead>\n",
              "    <tr style=\"text-align: right;\">\n",
              "      <th></th>\n",
              "      <th>datestamp</th>\n",
              "      <th>airline</th>\n",
              "      <th>n_count</th>\n",
              "    </tr>\n",
              "  </thead>\n",
              "  <tbody>\n",
              "    <tr>\n",
              "      <th>10</th>\n",
              "      <td>2015-02-19</td>\n",
              "      <td>American</td>\n",
              "      <td>1</td>\n",
              "    </tr>\n",
              "    <tr>\n",
              "      <th>16</th>\n",
              "      <td>2015-02-20</td>\n",
              "      <td>American</td>\n",
              "      <td>1</td>\n",
              "    </tr>\n",
              "    <tr>\n",
              "      <th>22</th>\n",
              "      <td>2015-02-21</td>\n",
              "      <td>American</td>\n",
              "      <td>1</td>\n",
              "    </tr>\n",
              "    <tr>\n",
              "      <th>28</th>\n",
              "      <td>2015-02-22</td>\n",
              "      <td>American</td>\n",
              "      <td>316</td>\n",
              "    </tr>\n",
              "    <tr>\n",
              "      <th>34</th>\n",
              "      <td>2015-02-23</td>\n",
              "      <td>American</td>\n",
              "      <td>1071</td>\n",
              "    </tr>\n",
              "    <tr>\n",
              "      <th>40</th>\n",
              "      <td>2015-02-24</td>\n",
              "      <td>American</td>\n",
              "      <td>570</td>\n",
              "    </tr>\n",
              "  </tbody>\n",
              "</table>\n",
              "</div>"
            ],
            "text/plain": [
              "     datestamp   airline  n_count\n",
              "10  2015-02-19  American        1\n",
              "16  2015-02-20  American        1\n",
              "22  2015-02-21  American        1\n",
              "28  2015-02-22  American      316\n",
              "34  2015-02-23  American     1071\n",
              "40  2015-02-24  American      570"
            ]
          },
          "metadata": {
            "tags": []
          },
          "execution_count": 33
        }
      ]
    },
    {
      "metadata": {
        "id": "WABXarlZiEeF",
        "colab_type": "text"
      },
      "cell_type": "markdown",
      "source": [
        "### I'll verify the data by doing a search for all rows between those dates, for American airlines"
      ]
    },
    {
      "metadata": {
        "id": "Ocwi7bbod5Gv",
        "colab_type": "code",
        "outputId": "54d03ad0-2890-4228-865c-4f791c2c4c12",
        "colab": {
          "base_uri": "https://localhost:8080/",
          "height": 142
        }
      },
      "cell_type": "code",
      "source": [
        "start_date = datetime.date(2015, 2, 17)\n",
        "end_date = datetime.date(2015,2,21)\n",
        "mask = (df_ng_time['datestamp'] > start_date) & (df_ng_time['datestamp'] <= end_date)\n",
        "df5 = df_ng_time.loc[mask]\n",
        "df5[df5.airline=='American']"
      ],
      "execution_count": 0,
      "outputs": [
        {
          "output_type": "execute_result",
          "data": {
            "text/html": [
              "<div>\n",
              "<style scoped>\n",
              "    .dataframe tbody tr th:only-of-type {\n",
              "        vertical-align: middle;\n",
              "    }\n",
              "\n",
              "    .dataframe tbody tr th {\n",
              "        vertical-align: top;\n",
              "    }\n",
              "\n",
              "    .dataframe thead th {\n",
              "        text-align: right;\n",
              "    }\n",
              "</style>\n",
              "<table border=\"1\" class=\"dataframe\">\n",
              "  <thead>\n",
              "    <tr style=\"text-align: right;\">\n",
              "      <th></th>\n",
              "      <th>airline</th>\n",
              "      <th>tweet_created</th>\n",
              "      <th>datestamp</th>\n",
              "    </tr>\n",
              "  </thead>\n",
              "  <tbody>\n",
              "    <tr>\n",
              "      <th>12034</th>\n",
              "      <td>American</td>\n",
              "      <td>2015-02-21 00:14:16 -0800</td>\n",
              "      <td>2015-02-21</td>\n",
              "    </tr>\n",
              "    <tr>\n",
              "      <th>12035</th>\n",
              "      <td>American</td>\n",
              "      <td>2015-02-20 09:28:32 -0800</td>\n",
              "      <td>2015-02-20</td>\n",
              "    </tr>\n",
              "    <tr>\n",
              "      <th>12037</th>\n",
              "      <td>American</td>\n",
              "      <td>2015-02-18 20:25:30 -0800</td>\n",
              "      <td>2015-02-19</td>\n",
              "    </tr>\n",
              "  </tbody>\n",
              "</table>\n",
              "</div>"
            ],
            "text/plain": [
              "        airline              tweet_created   datestamp\n",
              "12034  American  2015-02-21 00:14:16 -0800  2015-02-21\n",
              "12035  American  2015-02-20 09:28:32 -0800  2015-02-20\n",
              "12037  American  2015-02-18 20:25:30 -0800  2015-02-19"
            ]
          },
          "metadata": {
            "tags": []
          },
          "execution_count": 47
        }
      ]
    },
    {
      "metadata": {
        "id": "kBN39Nn6iV0N",
        "colab_type": "text"
      },
      "cell_type": "markdown",
      "source": [
        "### I see that indeed there are only three rows of data for those dates, and that the plot is correct\n",
        "\n",
        "### Investigating the count of negative reasons for American Airline on 2015-02-23"
      ]
    },
    {
      "metadata": {
        "id": "8mZmM4VMnShc",
        "colab_type": "code",
        "outputId": "8e700b7b-eff4-4e25-cb94-128c3b6c70c1",
        "colab": {
          "base_uri": "https://localhost:8080/",
          "height": 221
        }
      },
      "cell_type": "code",
      "source": [
        "df_nr = df[df.airline_sentiment=='negative'][['airline', 'negativereason','tweet_created']]\n",
        "df_nr['datestamp']= pd.to_datetime(df_nr['tweet_created'], infer_datetime_format=True, errors='coerce').dt.date\n",
        "df_nr_count = df_nr[(df_nr.airline=='American') & (df_nr.datestamp==datetime.date(2015, 2, 23))][['negativereason']].reset_index(drop=True)\n",
        "df_nr_count.groupby(df_nr_count['negativereason']).size().unstack"
      ],
      "execution_count": 0,
      "outputs": [
        {
          "output_type": "execute_result",
          "data": {
            "text/plain": [
              "<bound method Series.unstack of negativereason\n",
              "Bad Flight                      34\n",
              "Can't Tell                      97\n",
              "Cancelled Flight               138\n",
              "Customer Service Issue         459\n",
              "Damaged Luggage                  7\n",
              "Flight Attendant Complaints     36\n",
              "Flight Booking Problems         66\n",
              "Late Flight                    129\n",
              "Lost Luggage                    83\n",
              "longlines                       22\n",
              "dtype: int64>"
            ]
          },
          "metadata": {
            "tags": []
          },
          "execution_count": 69
        }
      ]
    },
    {
      "metadata": {
        "id": "g7jNcwq7dKQg",
        "colab_type": "text"
      },
      "cell_type": "markdown",
      "source": [
        "### Some thoughts\n",
        "\n",
        "#### American's spike\n",
        "- After seeing the large spike, I performed an American Airline 2015-02-23 Google search and saw that one of their jets slid off an icy taxiway.\n",
        "- I also read the tweets to see what the pattern was for the negative reason being Customer Service Issue and see that much of it has to do with being on hold. Although some of these tweets can be reclassified as \"Cancelled Flight,\" or Flight Booking Problems,\" it all begins with being connected.\n",
        "\n",
        "#### Recommendations to resolve these issues:\n",
        "From these visualizations, we can see that a majority of the negative sentiment stem from Customer Service Issues.\n",
        "- Hold time appears to be a common issue\n",
        " - American Airlines could develop a website or an App feature where people whose flights have been canceled due to some emergency (weather, accident, etc.).\n",
        " - A/B testing could be performed on flights that were canceled\n",
        " - A SMS message with instructions could be sent to those who are asked to be part of a test group (perhaps the people call in, and are offered a chance to take the alternate option?)\n",
        " - Tweets do have locations recorded, and so we can monitor the location where an emergency occurs\n",
        " - We would define a successful outcome as one that shows that the two distributions are significantly different with a p-value lower than 0.01 (dependent on the field)"
      ]
    }
  ]
}