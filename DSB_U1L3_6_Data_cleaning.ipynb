{
  "nbformat": 4,
  "nbformat_minor": 0,
  "metadata": {
    "colab": {
      "name": "DSB_U1L3_6_Data_cleaning.ipynb",
      "version": "0.3.2",
      "provenance": [],
      "collapsed_sections": []
    },
    "kernelspec": {
      "name": "python3",
      "display_name": "Python 3"
    }
  },
  "cells": [
    {
      "metadata": {
        "id": "P-Y2Tb5B9W5B",
        "colab_type": "text"
      },
      "cell_type": "markdown",
      "source": [
        "# Data Science Bootcamp - Unit 1 Lesson 3.6\n",
        "## Data cleaning & validation\n",
        "\n",
        "- determine the five most common journals\n",
        "- and the total articles for each\n",
        "\n",
        "- calculate the mean, median, and standard deviation of the open-access cost per article for each journal\n"
      ]
    },
    {
      "metadata": {
        "id": "_HIcGRMv947e",
        "colab_type": "text"
      },
      "cell_type": "markdown",
      "source": [
        "# Imports"
      ]
    },
    {
      "metadata": {
        "id": "3-mFtMkB86Ma",
        "colab_type": "code",
        "colab": {}
      },
      "cell_type": "code",
      "source": [
        "import numpy as np\n",
        "import pandas as pd\n",
        "import re\n",
        "\n"
      ],
      "execution_count": 0,
      "outputs": []
    },
    {
      "metadata": {
        "id": "eIsHXfs297Um",
        "colab_type": "text"
      },
      "cell_type": "markdown",
      "source": [
        "# Import CSV file\n",
        "encoding mac_roman must be used to decode the Pound Sterling symbol "
      ]
    },
    {
      "metadata": {
        "id": "abyXFLPM9-Q_",
        "colab_type": "code",
        "outputId": "04a74c67-d36b-4def-879d-bfa24a163ffe",
        "colab": {
          "base_uri": "https://localhost:8080/",
          "height": 204
        }
      },
      "cell_type": "code",
      "source": [
        "df = pd.read_csv('https://raw.githubusercontent.com/Vonganization/CSV_datasets/master/WELLCOME_APCspend2013_forThinkful.csv', encoding='mac_roman')\n",
        "df.head()"
      ],
      "execution_count": 0,
      "outputs": [
        {
          "output_type": "execute_result",
          "data": {
            "text/html": [
              "<div>\n",
              "<style scoped>\n",
              "    .dataframe tbody tr th:only-of-type {\n",
              "        vertical-align: middle;\n",
              "    }\n",
              "\n",
              "    .dataframe tbody tr th {\n",
              "        vertical-align: top;\n",
              "    }\n",
              "\n",
              "    .dataframe thead th {\n",
              "        text-align: right;\n",
              "    }\n",
              "</style>\n",
              "<table border=\"1\" class=\"dataframe\">\n",
              "  <thead>\n",
              "    <tr style=\"text-align: right;\">\n",
              "      <th></th>\n",
              "      <th>PMID/PMCID</th>\n",
              "      <th>Publisher</th>\n",
              "      <th>Journal title</th>\n",
              "      <th>Article title</th>\n",
              "      <th>COST (£) charged to Wellcome (inc VAT when charged)</th>\n",
              "    </tr>\n",
              "  </thead>\n",
              "  <tbody>\n",
              "    <tr>\n",
              "      <th>0</th>\n",
              "      <td>NaN</td>\n",
              "      <td>CUP</td>\n",
              "      <td>Psychological Medicine</td>\n",
              "      <td>Reduced parahippocampal cortical thickness in ...</td>\n",
              "      <td>£0.00</td>\n",
              "    </tr>\n",
              "    <tr>\n",
              "      <th>1</th>\n",
              "      <td>PMC3679557</td>\n",
              "      <td>ACS</td>\n",
              "      <td>Biomacromolecules</td>\n",
              "      <td>Structural characterization of a Model Gram-ne...</td>\n",
              "      <td>£2381.04</td>\n",
              "    </tr>\n",
              "    <tr>\n",
              "      <th>2</th>\n",
              "      <td>23043264  PMC3506128</td>\n",
              "      <td>ACS</td>\n",
              "      <td>J Med Chem</td>\n",
              "      <td>Fumaroylamino-4,5-epoxymorphinans and related ...</td>\n",
              "      <td>£642.56</td>\n",
              "    </tr>\n",
              "    <tr>\n",
              "      <th>3</th>\n",
              "      <td>23438330 PMC3646402</td>\n",
              "      <td>ACS</td>\n",
              "      <td>J Med Chem</td>\n",
              "      <td>Orvinols with mixed kappa/mu opioid receptor a...</td>\n",
              "      <td>£669.64</td>\n",
              "    </tr>\n",
              "    <tr>\n",
              "      <th>4</th>\n",
              "      <td>23438216 PMC3601604</td>\n",
              "      <td>ACS</td>\n",
              "      <td>J Org Chem</td>\n",
              "      <td>Regioselective opening of myo-inositol orthoes...</td>\n",
              "      <td>£685.88</td>\n",
              "    </tr>\n",
              "  </tbody>\n",
              "</table>\n",
              "</div>"
            ],
            "text/plain": [
              "              PMID/PMCID Publisher           Journal title  \\\n",
              "0                    NaN       CUP  Psychological Medicine   \n",
              "1             PMC3679557       ACS       Biomacromolecules   \n",
              "2  23043264  PMC3506128        ACS              J Med Chem   \n",
              "3    23438330 PMC3646402       ACS              J Med Chem   \n",
              "4   23438216 PMC3601604        ACS              J Org Chem   \n",
              "\n",
              "                                       Article title  \\\n",
              "0  Reduced parahippocampal cortical thickness in ...   \n",
              "1  Structural characterization of a Model Gram-ne...   \n",
              "2  Fumaroylamino-4,5-epoxymorphinans and related ...   \n",
              "3  Orvinols with mixed kappa/mu opioid receptor a...   \n",
              "4  Regioselective opening of myo-inositol orthoes...   \n",
              "\n",
              "  COST (£) charged to Wellcome (inc VAT when charged)  \n",
              "0                                              £0.00   \n",
              "1                                           £2381.04   \n",
              "2                                            £642.56   \n",
              "3                                            £669.64   \n",
              "4                                            £685.88   "
            ]
          },
          "metadata": {
            "tags": []
          },
          "execution_count": 2
        }
      ]
    },
    {
      "metadata": {
        "id": "E6ZePhZGCb_f",
        "colab_type": "text"
      },
      "cell_type": "markdown",
      "source": [
        "# Understanding the data\n",
        "To see if there are any null values and if the dataset needs cleaning"
      ]
    },
    {
      "metadata": {
        "id": "R11Fb0JiEBIE",
        "colab_type": "code",
        "outputId": "de1077d8-7692-4aa9-ce61-d3ff193d0c2f",
        "colab": {
          "base_uri": "https://localhost:8080/",
          "height": 34
        }
      },
      "cell_type": "code",
      "source": [
        "df.shape"
      ],
      "execution_count": 0,
      "outputs": [
        {
          "output_type": "execute_result",
          "data": {
            "text/plain": [
              "(2127, 5)"
            ]
          },
          "metadata": {
            "tags": []
          },
          "execution_count": 3
        }
      ]
    },
    {
      "metadata": {
        "id": "KWdIy0BkCj42",
        "colab_type": "code",
        "outputId": "ce035641-adf3-4dc7-e3a8-1923c1cb8bd1",
        "colab": {
          "base_uri": "https://localhost:8080/",
          "height": 187
        }
      },
      "cell_type": "code",
      "source": [
        "df.info()\n",
        "# I can see that PMID/PMCID, and Journal Title has null values...\n"
      ],
      "execution_count": 0,
      "outputs": [
        {
          "output_type": "stream",
          "text": [
            "<class 'pandas.core.frame.DataFrame'>\n",
            "RangeIndex: 2127 entries, 0 to 2126\n",
            "Data columns (total 5 columns):\n",
            "PMID/PMCID                                             1928 non-null object\n",
            "Publisher                                              2127 non-null object\n",
            "Journal title                                          2126 non-null object\n",
            "Article title                                          2127 non-null object\n",
            "COST (£) charged to Wellcome (inc VAT when charged)    2127 non-null object\n",
            "dtypes: object(5)\n",
            "memory usage: 83.2+ KB\n"
          ],
          "name": "stdout"
        }
      ]
    },
    {
      "metadata": {
        "id": "K4m-32hYEMOd",
        "colab_type": "text"
      },
      "cell_type": "markdown",
      "source": [
        "## Taking a look at all the null/NaN values within the PMID column"
      ]
    },
    {
      "metadata": {
        "id": "53-EAOTpEX45",
        "colab_type": "code",
        "outputId": "dc7605a1-85a9-437f-a1f1-76e245b69c7b",
        "colab": {
          "base_uri": "https://localhost:8080/",
          "height": 80
        }
      },
      "cell_type": "code",
      "source": [
        "# Bringing up all the values in the PMID/PMCID column that have null values\n",
        "df[df['Journal title'].isnull()]\n",
        "\n",
        "# PMID/PMCID shouldn't matter to us because we are interested in Journals and Articles \n",
        "# Looking at this one record, I don't believe it will effect our results"
      ],
      "execution_count": 0,
      "outputs": [
        {
          "output_type": "execute_result",
          "data": {
            "text/html": [
              "<div>\n",
              "<style scoped>\n",
              "    .dataframe tbody tr th:only-of-type {\n",
              "        vertical-align: middle;\n",
              "    }\n",
              "\n",
              "    .dataframe tbody tr th {\n",
              "        vertical-align: top;\n",
              "    }\n",
              "\n",
              "    .dataframe thead th {\n",
              "        text-align: right;\n",
              "    }\n",
              "</style>\n",
              "<table border=\"1\" class=\"dataframe\">\n",
              "  <thead>\n",
              "    <tr style=\"text-align: right;\">\n",
              "      <th></th>\n",
              "      <th>PMID/PMCID</th>\n",
              "      <th>Publisher</th>\n",
              "      <th>Journal title</th>\n",
              "      <th>Article title</th>\n",
              "      <th>COST (£) charged to Wellcome (inc VAT when charged)</th>\n",
              "    </tr>\n",
              "  </thead>\n",
              "  <tbody>\n",
              "    <tr>\n",
              "      <th>986</th>\n",
              "      <td>NaN</td>\n",
              "      <td>MacMillan</td>\n",
              "      <td>NaN</td>\n",
              "      <td>Fungal Disease in Britain and the United State...</td>\n",
              "      <td>£13200.00</td>\n",
              "    </tr>\n",
              "  </tbody>\n",
              "</table>\n",
              "</div>"
            ],
            "text/plain": [
              "    PMID/PMCID  Publisher Journal title  \\\n",
              "986        NaN  MacMillan           NaN   \n",
              "\n",
              "                                         Article title  \\\n",
              "986  Fungal Disease in Britain and the United State...   \n",
              "\n",
              "    COST (£) charged to Wellcome (inc VAT when charged)  \n",
              "986                                          £13200.00   "
            ]
          },
          "metadata": {
            "tags": []
          },
          "execution_count": 5
        }
      ]
    },
    {
      "metadata": {
        "id": "-u0UdnizFjKJ",
        "colab_type": "code",
        "outputId": "bae8b3f8-144a-4070-f677-5d6e50c3135e",
        "colab": {
          "base_uri": "https://localhost:8080/",
          "height": 1088
        }
      },
      "cell_type": "code",
      "source": [
        "df['Journal title'].groupby(df['Journal title']).agg('count')\n",
        "# We can see that upper and lowercase, spacing, and special characters are causing problems"
      ],
      "execution_count": 0,
      "outputs": [
        {
          "output_type": "execute_result",
          "data": {
            "text/plain": [
              "Journal title\n",
              "ACS Chemical Biology                                                                       5\n",
              "ACS Chemical Neuroscience                                                                  1\n",
              "ACS NANO                                                                                   1\n",
              "ACS Nano                                                                                   1\n",
              "ACTA F                                                                                     1\n",
              "AGE                                                                                        1\n",
              "AIDS                                                                                       3\n",
              "AIDS Behav                                                                                 1\n",
              "AIDS Care                                                                                  2\n",
              "AIDS Journal                                                                               1\n",
              "AIDS Research and Therapy                                                                  1\n",
              "AIDS UK                                                                                    2\n",
              "ASN Neuro                                                                                  1\n",
              "Academy of Nutrition and Dietetics                                                         1\n",
              "Acta Crystallographica Section D,  Biological Crystallography                              1\n",
              "Acta Crystallographica Section D: Biological Crystallography                               1\n",
              "Acta Crystallographica Section F: Structural Biology and Crystallization Communications    2\n",
              "Acta Crystallographica, Section D                                                          1\n",
              "Acta Crystallography D                                                                     1\n",
              "Acta D                                                                                     1\n",
              "Acta Dermato Venereologica                                                                 1\n",
              "Acta Diabetologica                                                                         1\n",
              "Acta Neuropathol                                                                           1\n",
              "Acta Neuropathologica                                                                      3\n",
              "Acta Opthalmologica                                                                        1\n",
              "Acta Physiol                                                                               1\n",
              "Addiction                                                                                  2\n",
              "Advances in Experimental Medicine and Biology                                              4\n",
              "Age                                                                                        1\n",
              "Age and Ageing                                                                             1\n",
              "                                                                                          ..\n",
              "Translational Psychiatry                                                                   2\n",
              "Trends in Cognitive Science                                                                1\n",
              "Trends in Genetics                                                                         2\n",
              "Trends in Microbiology                                                                     1\n",
              "Trends in Molecular Medicine                                                               1\n",
              "Trends in Neuroscience                                                                     1\n",
              "Trends in Neurosciences                                                                    2\n",
              "Trends in Parasitology                                                                     4\n",
              "Trials                                                                                     4\n",
              "Trials                                                                                     1\n",
              "Trop Med Int Health                                                                        1\n",
              "Tropical Animal Health & Production                                                        1\n",
              "Tropical Medicine and International Health                                                 6\n",
              "Tuberculosis                                                                               2\n",
              "Urban History                                                                              1\n",
              "Urolithiasis                                                                               1\n",
              "Vaccine                                                                                    5\n",
              "Vascular Pharmacology                                                                      1\n",
              "Veterinary Microbiology                                                                    1\n",
              "Veterinary Parasitology                                                                    2\n",
              "Veterinary Record                                                                          1\n",
              "Veterinary Research                                                                        1\n",
              "Virology                                                                                   2\n",
              "Virology Journal                                                                           1\n",
              "Virus Research                                                                             1\n",
              "Vision Research                                                                            2\n",
              "Visual Neuroscience                                                                        1\n",
              "Zoonoses and Public Health                                                                 1\n",
              "genesis: Journal of Genetics                                                               1\n",
              "mBio                                                                                       1\n",
              "Name: Journal title, Length: 984, dtype: int64"
            ]
          },
          "metadata": {
            "tags": []
          },
          "execution_count": 6
        }
      ]
    },
    {
      "metadata": {
        "id": "myisQhREJeCy",
        "colab_type": "text"
      },
      "cell_type": "markdown",
      "source": [
        "# Cleaning Data\n",
        "- remove all spaces\n",
        "- remove special characters (, : &)\n",
        "- make all text lowercase\n",
        "- change number \"1\" to \"one\""
      ]
    },
    {
      "metadata": {
        "id": "y2j5MfR5HHwx",
        "colab_type": "code",
        "outputId": "54397baa-4084-4016-e6b5-284cf237f0af",
        "colab": {
          "base_uri": "https://localhost:8080/",
          "height": 1071
        }
      },
      "cell_type": "code",
      "source": [
        "df_clean_jt = df['Journal title'].str.replace(' ','').str.replace(',','').str.replace(':','').str.replace('&','and').str.lower().str.replace('1','one')\n",
        "df_clean_jt\n"
      ],
      "execution_count": 0,
      "outputs": [
        {
          "output_type": "execute_result",
          "data": {
            "text/plain": [
              "0                                  psychologicalmedicine\n",
              "1                                      biomacromolecules\n",
              "2                                               jmedchem\n",
              "3                                               jmedchem\n",
              "4                                               jorgchem\n",
              "5                            journalofmedicinalchemistry\n",
              "6                              journalofproteomeresearch\n",
              "7                                               molpharm\n",
              "8                                     acschemicalbiology\n",
              "9                                     acschemicalbiology\n",
              "10               journalofchemicalinformationandmodeling\n",
              "11                           journalofmedicinalchemistry\n",
              "12                           journalofmedicinalchemistry\n",
              "13                                          biochemistry\n",
              "14                           journalofmedicinalchemistry\n",
              "15                                      gastroenterology\n",
              "16                          journalofbiologicalchemistry\n",
              "17                                   journalofimmunology\n",
              "18                                   journalofimmunology\n",
              "19                                    acschemicalbiology\n",
              "20                                    acschemicalbiology\n",
              "21                                    acschemicalbiology\n",
              "22                               acschemicalneuroscience\n",
              "23                                               acsnano\n",
              "24                               americanchemicalsociety\n",
              "25                                   analyticalchemistry\n",
              "26                                   analyticalchemistry\n",
              "27                                   analyticalchemistry\n",
              "28                                 bioconjugatechemistry\n",
              "29                           journalofmedicinalchemistry\n",
              "                              ...                       \n",
              "2097                               molecularmicrobiology\n",
              "2098                                      obesityreviews\n",
              "2099                                      obesityreviews\n",
              "2100                                statisticsinmedicine\n",
              "2101                                           stemcells\n",
              "2102                                             synapse\n",
              "2103                    theeuropeanjournalofneuroscience\n",
              "2104                                             traffic\n",
              "2105                                             traffic\n",
              "2106                             zoonosesandpublichealth\n",
              "2107                    americanjournaloftransplantation\n",
              "2108                                     angewchemsinted\n",
              "2109                                         chembiochem\n",
              "2110                                         chemmedchem\n",
              "2111                                         chemmedchem\n",
              "2112                                         chemmedchem\n",
              "2113                                           protemics\n",
              "2114                        journalofsmallanimalpractice\n",
              "2115                                                aids\n",
              "2116                                         aidsjournal\n",
              "2117                                              aidsuk\n",
              "2118                                              aidsuk\n",
              "2119     jaidsjournalofacquiredimmunedeficiencysyndromes\n",
              "2120    journalofacquiredimmunedeficiencysyndroms(jaids)\n",
              "2121                                       journalofaids\n",
              "2122                                 circulationresearch\n",
              "2123                                                aids\n",
              "2124                                   pediatrinfectdisj\n",
              "2125                                                aids\n",
              "2126          journalofacquiredimmunedeficiencysyndromes\n",
              "Name: Journal title, Length: 2127, dtype: object"
            ]
          },
          "metadata": {
            "tags": []
          },
          "execution_count": 7
        }
      ]
    },
    {
      "metadata": {
        "id": "UB6ak1I66bGQ",
        "colab_type": "text"
      },
      "cell_type": "markdown",
      "source": [
        "## Determine the five most common journals, and total articles for each"
      ]
    },
    {
      "metadata": {
        "id": "76FqQMloKE-K",
        "colab_type": "code",
        "outputId": "0907a521-08c9-4372-abca-d676a2febf9a",
        "colab": {
          "base_uri": "https://localhost:8080/",
          "height": 204
        }
      },
      "cell_type": "code",
      "source": [
        "top_5_jt = df_clean_jt.groupby(df_clean_jt).agg('count').reset_index(name='count')\n",
        "top_5_jt.sort_values('count', ascending=False).head(5)"
      ],
      "execution_count": 0,
      "outputs": [
        {
          "output_type": "execute_result",
          "data": {
            "text/html": [
              "<div>\n",
              "<style scoped>\n",
              "    .dataframe tbody tr th:only-of-type {\n",
              "        vertical-align: middle;\n",
              "    }\n",
              "\n",
              "    .dataframe tbody tr th {\n",
              "        vertical-align: top;\n",
              "    }\n",
              "\n",
              "    .dataframe thead th {\n",
              "        text-align: right;\n",
              "    }\n",
              "</style>\n",
              "<table border=\"1\" class=\"dataframe\">\n",
              "  <thead>\n",
              "    <tr style=\"text-align: right;\">\n",
              "      <th></th>\n",
              "      <th>Journal title</th>\n",
              "      <th>count</th>\n",
              "    </tr>\n",
              "  </thead>\n",
              "  <tbody>\n",
              "    <tr>\n",
              "      <th>732</th>\n",
              "      <td>plosone</td>\n",
              "      <td>207</td>\n",
              "    </tr>\n",
              "    <tr>\n",
              "      <th>490</th>\n",
              "      <td>journalofbiologicalchemistry</td>\n",
              "      <td>53</td>\n",
              "    </tr>\n",
              "    <tr>\n",
              "      <th>667</th>\n",
              "      <td>neuroimage</td>\n",
              "      <td>29</td>\n",
              "    </tr>\n",
              "    <tr>\n",
              "      <th>689</th>\n",
              "      <td>nucleicacidsresearch</td>\n",
              "      <td>25</td>\n",
              "    </tr>\n",
              "    <tr>\n",
              "      <th>726</th>\n",
              "      <td>plosgenetics</td>\n",
              "      <td>24</td>\n",
              "    </tr>\n",
              "  </tbody>\n",
              "</table>\n",
              "</div>"
            ],
            "text/plain": [
              "                    Journal title  count\n",
              "732                       plosone    207\n",
              "490  journalofbiologicalchemistry     53\n",
              "667                    neuroimage     29\n",
              "689          nucleicacidsresearch     25\n",
              "726                  plosgenetics     24"
            ]
          },
          "metadata": {
            "tags": []
          },
          "execution_count": 8
        }
      ]
    },
    {
      "metadata": {
        "id": "IEA9rA16FfmT",
        "colab_type": "text"
      },
      "cell_type": "markdown",
      "source": [
        "## Clean data\n",
        "- Remove Sterling Pound symbol\n",
        "- Remove 999999.00, as it does not appear to have any particular value"
      ]
    },
    {
      "metadata": {
        "id": "9s4kYPc78-5j",
        "colab_type": "code",
        "colab": {}
      },
      "cell_type": "code",
      "source": [
        "df_cost = df['COST (£) charged to Wellcome (inc VAT when charged)'].str.slice(start=1).str.replace('999999.00','').reset_index(name='money')"
      ],
      "execution_count": 0,
      "outputs": []
    },
    {
      "metadata": {
        "id": "yGd3VKVlFkrj",
        "colab_type": "text"
      },
      "cell_type": "markdown",
      "source": [
        "## Change type of data in column to numeric so that I can apply statistics"
      ]
    },
    {
      "metadata": {
        "id": "aK2snBq1CJuh",
        "colab_type": "code",
        "colab": {}
      },
      "cell_type": "code",
      "source": [
        "df_cost_num = pd.to_numeric(df_cost['money'], errors='coerce')"
      ],
      "execution_count": 0,
      "outputs": []
    },
    {
      "metadata": {
        "id": "bTKFKsFqFzgb",
        "colab_type": "text"
      },
      "cell_type": "markdown",
      "source": [
        "## Calculate the mean, median, and standard deviation of the open-access cost per article for each journal"
      ]
    },
    {
      "metadata": {
        "id": "VhAFI1tGF9XD",
        "colab_type": "code",
        "outputId": "a7477a08-b261-4679-ca7b-b3ee29b31f54",
        "colab": {
          "base_uri": "https://localhost:8080/",
          "height": 170
        }
      },
      "cell_type": "code",
      "source": [
        "df_cost_num.describe()"
      ],
      "execution_count": 0,
      "outputs": [
        {
          "output_type": "execute_result",
          "data": {
            "text/plain": [
              "count      2067.000000\n",
              "mean       2018.609173\n",
              "std        6119.374144\n",
              "min           0.000000\n",
              "25%        1268.700000\n",
              "50%        1863.000000\n",
              "75%        2303.735000\n",
              "max      201024.000000\n",
              "Name: money, dtype: float64"
            ]
          },
          "metadata": {
            "tags": []
          },
          "execution_count": 11
        }
      ]
    },
    {
      "metadata": {
        "id": "xBg5mO7v8b6k",
        "colab_type": "text"
      },
      "cell_type": "markdown",
      "source": [
        "# Afterthoughts\n",
        "\n",
        "After going back and reviewing the data, I can see that more cleaning is needed... for instance, there are journal titles with an \"s\" to make the word plural, whereas other titles are not plural"
      ]
    }
  ]
}