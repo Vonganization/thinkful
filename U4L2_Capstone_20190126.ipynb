{
  "nbformat": 4,
  "nbformat_minor": 0,
  "metadata": {
    "colab": {
      "name": "U4L2_Income_Age_Gender_Capstone_20190126.ipynb",
      "version": "0.3.2",
      "provenance": [],
      "collapsed_sections": []
    },
    "kernelspec": {
      "name": "python3",
      "display_name": "Python 3"
    }
  },
  "cells": [
    {
      "metadata": {
        "id": "Zs_GiDnqbqLP",
        "colab_type": "text"
      },
      "cell_type": "markdown",
      "source": [
        "# Income based on Age and Gender\n",
        "\n",
        "## Summary:\n",
        "\n",
        "The US Adult income dataset was downloaded from [Kaggle.com](https://www.kaggle.com/johnolafenwa/us-census-data). The actual data within the csv file was extracted by Barry Becker from the 1994 US Census Database. There are 32560 rows of data that relate income to social factors such as Age, Education, race, and gender. Income is represented as either earning greater than or less than 50,000 USD a year. Each row is labelled as either having a salary greater than \">50k\" or \"<=50k\".\n",
        "\n",
        "Note that according to the [Bureau of Labor and Statistics](https://www.bls.gov/data/inflation_calculator.htm) , 50k USD in Dec, 1994 would be equivalent to 83,912.16 USD in Dec, 2018.\n",
        "\n",
        "Although there are many variables that can be reviewed with this dataset, I will focus only on Age and Gender. The primary goal of this notebook is to showcase skills learned within our Pre-Data Scientist program. Some of the questions that are reviewed will be:\n",
        "\n",
        "#### Questions regarding Age:\n",
        "- Per Age, what percentage of people earn greater than 50,000 USD per year?\n",
        "- What is the mean and median age for those earning over and under 50,000 USD per year?\n",
        "\n",
        "#### Diving deeper, questions regarding Gender: \n",
        "- By percentage and Age, what does the Male and Female workforce look like?\n",
        "- Of those earning more than 50,000 USD per year, what percentage is Male? What percentage is Female?\n",
        "- Of those earning less than 50,000 USD per year, what percentage is Male? What percentage is Female?\n",
        "\n",
        "#### Future thoughts\n",
        "- There are many more variables that need to be reviewed to see what and which variable has the greatest impact on income. Some of those variables that still need to be reviewed are: Eduation, Race, and Marital Status. \n",
        "- Although the T-test informs us that there is a signifcant difference, we cannot assume the populations listed below are the only factors related to income.\n",
        " - <=50k USD and >50k USD\n",
        " - Males and Females\n",
        " - Males and Females earning <=50k USD\n",
        " - Males and Females earning >50k USD"
      ]
    },
    {
      "metadata": {
        "id": "XK8QoeriaOb4",
        "colab_type": "text"
      },
      "cell_type": "markdown",
      "source": [
        "### Imports"
      ]
    },
    {
      "metadata": {
        "id": "0zVayzE1Ybml",
        "colab_type": "code",
        "colab": {}
      },
      "cell_type": "code",
      "source": [
        "import pandas as pd\n",
        "import matplotlib.pyplot as plt\n",
        "from scipy.stats import ttest_ind"
      ],
      "execution_count": 0,
      "outputs": []
    },
    {
      "metadata": {
        "id": "317YzimoaUmI",
        "colab_type": "text"
      },
      "cell_type": "markdown",
      "source": [
        "### Create a function to generate Statistics"
      ]
    },
    {
      "metadata": {
        "id": "vwTXPsOWadFA",
        "colab_type": "code",
        "colab": {}
      },
      "cell_type": "code",
      "source": [
        "def stats(y):\n",
        "    print('Count of rows: ' + str(y.count()))\n",
        "    print('Minimum: ' + str(y.min()))\n",
        "    print('Maximum: ' + str(y.max()))\n",
        "    print('Mean: ' + str(round(y.mean(),2)))\n",
        "    print('Median: ' + str(y.median()))\n",
        "    print('Standard Deviation: ' + str(round(y.std(),2)))\n",
        "    print('Mode: ' + str(y.mode()[0]))"
      ],
      "execution_count": 0,
      "outputs": []
    },
    {
      "metadata": {
        "id": "wq-lgk3KZjJr",
        "colab_type": "text"
      },
      "cell_type": "markdown",
      "source": [
        "### Uploading CSV file, adding headers"
      ]
    },
    {
      "metadata": {
        "id": "NEZi4XKCZ5Vm",
        "colab_type": "code",
        "outputId": "25d3f244-8636-4dba-e610-9b54a6064549",
        "colab": {
          "base_uri": "https://localhost:8080/",
          "height": 204
        }
      },
      "cell_type": "code",
      "source": [
        "# Import the csv file into a dataframe for analysis and manipulation\n",
        "\n",
        "df = pd.read_csv('https://raw.githubusercontent.com/Vonganization/CSV_datasets/master/adult-training.csv', \n",
        "                 sep=\",\",\n",
        "                 header=None,\n",
        "                 names=['age','workclass','fnlwgt','education','education_num',\n",
        "                        'marital_status',\n",
        "                        'occupation',\n",
        "                        'relationship',\n",
        "                        'race',\n",
        "                        'gender',\n",
        "                        'capital_gain',\n",
        "                        'capital_loss',\n",
        "                        'hours_per_week',\n",
        "                        'native_country',\n",
        "                        'income_bracket'\n",
        "                       ]\n",
        "                )\n",
        "df.head()\n"
      ],
      "execution_count": 104,
      "outputs": [
        {
          "output_type": "execute_result",
          "data": {
            "text/html": [
              "<div>\n",
              "<style scoped>\n",
              "    .dataframe tbody tr th:only-of-type {\n",
              "        vertical-align: middle;\n",
              "    }\n",
              "\n",
              "    .dataframe tbody tr th {\n",
              "        vertical-align: top;\n",
              "    }\n",
              "\n",
              "    .dataframe thead th {\n",
              "        text-align: right;\n",
              "    }\n",
              "</style>\n",
              "<table border=\"1\" class=\"dataframe\">\n",
              "  <thead>\n",
              "    <tr style=\"text-align: right;\">\n",
              "      <th></th>\n",
              "      <th>age</th>\n",
              "      <th>workclass</th>\n",
              "      <th>fnlwgt</th>\n",
              "      <th>education</th>\n",
              "      <th>education_num</th>\n",
              "      <th>marital_status</th>\n",
              "      <th>occupation</th>\n",
              "      <th>relationship</th>\n",
              "      <th>race</th>\n",
              "      <th>gender</th>\n",
              "      <th>capital_gain</th>\n",
              "      <th>capital_loss</th>\n",
              "      <th>hours_per_week</th>\n",
              "      <th>native_country</th>\n",
              "      <th>income_bracket</th>\n",
              "    </tr>\n",
              "  </thead>\n",
              "  <tbody>\n",
              "    <tr>\n",
              "      <th>0</th>\n",
              "      <td>39</td>\n",
              "      <td>State-gov</td>\n",
              "      <td>77516</td>\n",
              "      <td>Bachelors</td>\n",
              "      <td>13</td>\n",
              "      <td>Never-married</td>\n",
              "      <td>Adm-clerical</td>\n",
              "      <td>Not-in-family</td>\n",
              "      <td>White</td>\n",
              "      <td>Male</td>\n",
              "      <td>2174</td>\n",
              "      <td>0</td>\n",
              "      <td>40</td>\n",
              "      <td>United-States</td>\n",
              "      <td>&lt;=50K</td>\n",
              "    </tr>\n",
              "    <tr>\n",
              "      <th>1</th>\n",
              "      <td>50</td>\n",
              "      <td>Self-emp-not-inc</td>\n",
              "      <td>83311</td>\n",
              "      <td>Bachelors</td>\n",
              "      <td>13</td>\n",
              "      <td>Married-civ-spouse</td>\n",
              "      <td>Exec-managerial</td>\n",
              "      <td>Husband</td>\n",
              "      <td>White</td>\n",
              "      <td>Male</td>\n",
              "      <td>0</td>\n",
              "      <td>0</td>\n",
              "      <td>13</td>\n",
              "      <td>United-States</td>\n",
              "      <td>&lt;=50K</td>\n",
              "    </tr>\n",
              "    <tr>\n",
              "      <th>2</th>\n",
              "      <td>38</td>\n",
              "      <td>Private</td>\n",
              "      <td>215646</td>\n",
              "      <td>HS-grad</td>\n",
              "      <td>9</td>\n",
              "      <td>Divorced</td>\n",
              "      <td>Handlers-cleaners</td>\n",
              "      <td>Not-in-family</td>\n",
              "      <td>White</td>\n",
              "      <td>Male</td>\n",
              "      <td>0</td>\n",
              "      <td>0</td>\n",
              "      <td>40</td>\n",
              "      <td>United-States</td>\n",
              "      <td>&lt;=50K</td>\n",
              "    </tr>\n",
              "    <tr>\n",
              "      <th>3</th>\n",
              "      <td>53</td>\n",
              "      <td>Private</td>\n",
              "      <td>234721</td>\n",
              "      <td>11th</td>\n",
              "      <td>7</td>\n",
              "      <td>Married-civ-spouse</td>\n",
              "      <td>Handlers-cleaners</td>\n",
              "      <td>Husband</td>\n",
              "      <td>Black</td>\n",
              "      <td>Male</td>\n",
              "      <td>0</td>\n",
              "      <td>0</td>\n",
              "      <td>40</td>\n",
              "      <td>United-States</td>\n",
              "      <td>&lt;=50K</td>\n",
              "    </tr>\n",
              "    <tr>\n",
              "      <th>4</th>\n",
              "      <td>28</td>\n",
              "      <td>Private</td>\n",
              "      <td>338409</td>\n",
              "      <td>Bachelors</td>\n",
              "      <td>13</td>\n",
              "      <td>Married-civ-spouse</td>\n",
              "      <td>Prof-specialty</td>\n",
              "      <td>Wife</td>\n",
              "      <td>Black</td>\n",
              "      <td>Female</td>\n",
              "      <td>0</td>\n",
              "      <td>0</td>\n",
              "      <td>40</td>\n",
              "      <td>Cuba</td>\n",
              "      <td>&lt;=50K</td>\n",
              "    </tr>\n",
              "  </tbody>\n",
              "</table>\n",
              "</div>"
            ],
            "text/plain": [
              "   age          workclass  fnlwgt   education  education_num  \\\n",
              "0   39          State-gov   77516   Bachelors             13   \n",
              "1   50   Self-emp-not-inc   83311   Bachelors             13   \n",
              "2   38            Private  215646     HS-grad              9   \n",
              "3   53            Private  234721        11th              7   \n",
              "4   28            Private  338409   Bachelors             13   \n",
              "\n",
              "        marital_status          occupation    relationship    race   gender  \\\n",
              "0        Never-married        Adm-clerical   Not-in-family   White     Male   \n",
              "1   Married-civ-spouse     Exec-managerial         Husband   White     Male   \n",
              "2             Divorced   Handlers-cleaners   Not-in-family   White     Male   \n",
              "3   Married-civ-spouse   Handlers-cleaners         Husband   Black     Male   \n",
              "4   Married-civ-spouse      Prof-specialty            Wife   Black   Female   \n",
              "\n",
              "   capital_gain  capital_loss  hours_per_week  native_country income_bracket  \n",
              "0          2174             0              40   United-States          <=50K  \n",
              "1             0             0              13   United-States          <=50K  \n",
              "2             0             0              40   United-States          <=50K  \n",
              "3             0             0              40   United-States          <=50K  \n",
              "4             0             0              40            Cuba          <=50K  "
            ]
          },
          "metadata": {
            "tags": []
          },
          "execution_count": 104
        }
      ]
    },
    {
      "metadata": {
        "id": "Ua9LCo4rakhX",
        "colab_type": "text"
      },
      "cell_type": "markdown",
      "source": [
        "### Create a DataFrame with only Age and Income as factors"
      ]
    },
    {
      "metadata": {
        "id": "n25dZTX1tg_b",
        "colab_type": "code",
        "outputId": "83e4e00e-5894-451c-e153-9193a66fb22c",
        "colab": {
          "base_uri": "https://localhost:8080/",
          "height": 204
        }
      },
      "cell_type": "code",
      "source": [
        "age_and_income = df[['age','income_bracket']]\n",
        "\n",
        "# Split the data so that we have two dataframes:\n",
        "# Age with lesser than $50k\n",
        "age_and_income_l50k = age_and_income[age_and_income['income_bracket']==' <=50K']\n",
        "# Age with greater than $50k\n",
        "age_and_income_g50k = age_and_income[age_and_income['income_bracket']==' >50K']\n",
        "\n",
        "# Get the count of each age\n",
        "# Rest_index used to add column headers\n",
        "# Column headers will be used to help identify columns when plotting\n",
        "age_g50k_group = age_and_income_g50k.groupby('age').agg('count').reset_index()\n",
        "age_l50k_group = age_and_income_l50k.groupby('age').agg('count').reset_index()\n",
        "\n",
        "# Renaming column headers\n",
        "age_g50k_group.columns = ['age','g50k']\n",
        "age_l50k_group.columns = ['age','l50k']\n",
        "\n",
        "# Combining the columns of data back together for plotting purposes\n",
        "# So there will be only one X-axis varible\n",
        "age_combined = age_g50k_group.merge(age_l50k_group, left_on='age', right_on='age')\n",
        "\n",
        "age_combined.head()\n",
        "\n"
      ],
      "execution_count": 105,
      "outputs": [
        {
          "output_type": "execute_result",
          "data": {
            "text/html": [
              "<div>\n",
              "<style scoped>\n",
              "    .dataframe tbody tr th:only-of-type {\n",
              "        vertical-align: middle;\n",
              "    }\n",
              "\n",
              "    .dataframe tbody tr th {\n",
              "        vertical-align: top;\n",
              "    }\n",
              "\n",
              "    .dataframe thead th {\n",
              "        text-align: right;\n",
              "    }\n",
              "</style>\n",
              "<table border=\"1\" class=\"dataframe\">\n",
              "  <thead>\n",
              "    <tr style=\"text-align: right;\">\n",
              "      <th></th>\n",
              "      <th>age</th>\n",
              "      <th>g50k</th>\n",
              "      <th>l50k</th>\n",
              "    </tr>\n",
              "  </thead>\n",
              "  <tbody>\n",
              "    <tr>\n",
              "      <th>0</th>\n",
              "      <td>19</td>\n",
              "      <td>2</td>\n",
              "      <td>710</td>\n",
              "    </tr>\n",
              "    <tr>\n",
              "      <th>1</th>\n",
              "      <td>21</td>\n",
              "      <td>3</td>\n",
              "      <td>717</td>\n",
              "    </tr>\n",
              "    <tr>\n",
              "      <th>2</th>\n",
              "      <td>22</td>\n",
              "      <td>13</td>\n",
              "      <td>752</td>\n",
              "    </tr>\n",
              "    <tr>\n",
              "      <th>3</th>\n",
              "      <td>23</td>\n",
              "      <td>12</td>\n",
              "      <td>865</td>\n",
              "    </tr>\n",
              "    <tr>\n",
              "      <th>4</th>\n",
              "      <td>24</td>\n",
              "      <td>31</td>\n",
              "      <td>767</td>\n",
              "    </tr>\n",
              "  </tbody>\n",
              "</table>\n",
              "</div>"
            ],
            "text/plain": [
              "   age  g50k  l50k\n",
              "0   19     2   710\n",
              "1   21     3   717\n",
              "2   22    13   752\n",
              "3   23    12   865\n",
              "4   24    31   767"
            ]
          },
          "metadata": {
            "tags": []
          },
          "execution_count": 105
        }
      ]
    },
    {
      "metadata": {
        "id": "hWMWMOt_h-f4",
        "colab_type": "text"
      },
      "cell_type": "markdown",
      "source": [
        "### Generate a Bar Plot that visually shows the distribution of data by Age\n",
        "As we can see, the number of individuals who earn >50k USD increases by age, and begins to decline around the median age of 44."
      ]
    },
    {
      "metadata": {
        "id": "yxiq8YKOibb9",
        "colab_type": "code",
        "outputId": "a7c2a51e-4f7b-47fb-b35f-34ee58a7029e",
        "colab": {
          "base_uri": "https://localhost:8080/",
          "height": 349
        }
      },
      "cell_type": "code",
      "source": [
        "# X-axis value\n",
        "x1 = age_combined['age']\n",
        "\n",
        "# Y-axis values\n",
        "y1 = age_combined['l50k']\n",
        "y2 = age_combined['g50k']\n",
        "\n",
        "# So the bars will appear stacked on top of each other\n",
        "y3 = y1 + y2\n",
        "\n",
        "# looking at percent instead...\n",
        "y1_p = y1 / y3 * 100\n",
        "y2_p = y2 / y3 * 100\n",
        "y3_p = y1_p + y2_p\n",
        "\n",
        "# Labels for legend\n",
        "l_l50k = 'Earn <=$50k'\n",
        "l_g50k = 'Earn > $50k'\n",
        "\n",
        "# Bar of actual Count\n",
        "plt.figure(figsize=(20,5))\n",
        "plt.bar(x1, y3, color='Red', label=l_l50k)\n",
        "plt.bar(x1, y2, color='Blue', label=l_g50k)\n",
        "plt.ylabel('Number of People per Age')\n",
        "plt.xlabel('Age')\n",
        "plt.title('Count of people earning <=50k USD and >50k USD broken down by Age')\n",
        "plt.grid(b=True, which='both', linestyle='dashed', color='black')\n",
        "plt.legend(loc=\"upper right\")\n",
        "plt.show()"
      ],
      "execution_count": 106,
      "outputs": [
        {
          "output_type": "display_data",
          "data": {
            "image/png": "[encoded data removed]",
            "text/plain": [
              "<Figure size 1440x360 with 1 Axes>"
            ]
          },
          "metadata": {
            "tags": []
          }
        }
      ]
    },
    {
      "metadata": {
        "id": "tNlseUA2bT6x",
        "colab_type": "text"
      },
      "cell_type": "markdown",
      "source": [
        "### Based on Age, T-test and statistics for people who earn >50k USD and <=50k USD\n",
        "\n",
        "Comparing two populations using a T-test: those who earn <=50k USD, and those who earn >50k USD. T-test shows there is a significant difference between the two populations and 0 chance of the difference due to randomness."
      ]
    },
    {
      "metadata": {
        "id": "LVAglVv2hnbV",
        "colab_type": "code",
        "outputId": "62a87b1d-0e06-4b9e-ac0b-f8daca2ef18a",
        "colab": {
          "base_uri": "https://localhost:8080/",
          "height": 357
        }
      },
      "cell_type": "code",
      "source": [
        "# Statistics on population by Age for those who earn <= 50,000 USD\n",
        "print('Statistics on population by Age for those who earn less than or equal to 50,000 USD')\n",
        "stats(age_and_income_l50k['age'])\n",
        "print('')\n",
        "# Statistics on population by Age for those who earn more than 50,000 USD\n",
        "print('Statistics on population by Age for those who earn more than 50,000 USD')\n",
        "stats(age_and_income_g50k['age'])\n",
        "print('')\n",
        "\n",
        "# T-test comparing only <=50k USD and >50k USD\n",
        "print('T-test comparing only <=50k USD and >50k USD')\n",
        "print(ttest_ind(age_and_income_l50k['age'],age_and_income_g50k['age']))"
      ],
      "execution_count": 107,
      "outputs": [
        {
          "output_type": "stream",
          "text": [
            "Statistics on population by Age for those who earn less than or equal to 50,000 USD\n",
            "Count of rows: 24720\n",
            "Minimum: 17\n",
            "Maximum: 90\n",
            "Mean: 36.78\n",
            "Median: 34.0\n",
            "Standard Deviation: 14.02\n",
            "Mode: 23\n",
            "\n",
            "Statistics on population by Age for those who earn more than 50,000 USD\n",
            "Count of rows: 7841\n",
            "Minimum: 19\n",
            "Maximum: 90\n",
            "Mean: 44.25\n",
            "Median: 44.0\n",
            "Standard Deviation: 10.52\n",
            "Mode: 37\n",
            "\n",
            "T-test comparing only <=50k USD and >50k USD\n",
            "Ttest_indResult(statistic=-43.436244240451096, pvalue=0.0)\n"
          ],
          "name": "stdout"
        }
      ]
    },
    {
      "metadata": {
        "id": "qswFyYUICjkF",
        "colab_type": "text"
      },
      "cell_type": "markdown",
      "source": [
        "### Taking a look at what percentage of people earn <=50k USD and >50k USD by Age"
      ]
    },
    {
      "metadata": {
        "id": "iAI-Ku0Ij3_r",
        "colab_type": "code",
        "outputId": "7db5e102-e075-437f-a70b-df4f5fb852c7",
        "colab": {
          "base_uri": "https://localhost:8080/",
          "height": 367
        }
      },
      "cell_type": "code",
      "source": [
        "# Bar of percent people \n",
        "plt.figure(figsize=(20,5))\n",
        "plt.bar(x1, y3_p, color='Red', label=l_l50k)\n",
        "plt.bar(x1, y2_p, color='Blue', label=l_g50k)\n",
        "plt.ylabel('Percentage')\n",
        "plt.xlabel('Age')\n",
        "plt.title('Percentage of people earning <=50k USD and >50k USD broken down by Age', fontweight='bold')\n",
        "plt.legend(bbox_to_anchor=(.615,-0.095), ncol=2)\n",
        "plt.grid(b=True, which='both', linestyle='dashed', color='black')\n",
        "plt.show()"
      ],
      "execution_count": 108,
      "outputs": [
        {
          "output_type": "display_data",
          "data": {
            "image/png": "[encoded data removed]",
            "text/plain": [
              "<Figure size 1440x360 with 1 Axes>"
            ]
          },
          "metadata": {
            "tags": []
          }
        }
      ]
    },
    {
      "metadata": {
        "id": "eEIIkY-0oFDL",
        "colab_type": "text"
      },
      "cell_type": "markdown",
      "source": [
        "### Listed by percent in a dataframe, the Top 10 Ages for those earning <=50k USD and >50k USD."
      ]
    },
    {
      "metadata": {
        "id": "EupcV76dodmj",
        "colab_type": "code",
        "outputId": "0da8d980-6440-41ac-b14d-754e76ffffa3",
        "colab": {
          "base_uri": "https://localhost:8080/",
          "height": 376
        }
      },
      "cell_type": "code",
      "source": [
        "# Shows by percent, Top 10 Ages earning greater than 50,000 USD\n",
        "print('By percent, Top 10 Ages earning greater than 50,000 USD')\n",
        "age_combined['Percent_g50k'] = round(y2 / y3 * 100, 2)\n",
        "age_combined[['age','Percent_g50k']].nlargest(10, 'Percent_g50k')"
      ],
      "execution_count": 109,
      "outputs": [
        {
          "output_type": "stream",
          "text": [
            "By percent, Top 10 Ages earning greater than 50,000 USD\n"
          ],
          "name": "stdout"
        },
        {
          "output_type": "execute_result",
          "data": {
            "text/html": [
              "<div>\n",
              "<style scoped>\n",
              "    .dataframe tbody tr th:only-of-type {\n",
              "        vertical-align: middle;\n",
              "    }\n",
              "\n",
              "    .dataframe tbody tr th {\n",
              "        vertical-align: top;\n",
              "    }\n",
              "\n",
              "    .dataframe thead th {\n",
              "        text-align: right;\n",
              "    }\n",
              "</style>\n",
              "<table border=\"1\" class=\"dataframe\">\n",
              "  <thead>\n",
              "    <tr style=\"text-align: right;\">\n",
              "      <th></th>\n",
              "      <th>age</th>\n",
              "      <th>Percent_g50k</th>\n",
              "    </tr>\n",
              "  </thead>\n",
              "  <tbody>\n",
              "    <tr>\n",
              "      <th>30</th>\n",
              "      <td>50</td>\n",
              "      <td>43.36</td>\n",
              "    </tr>\n",
              "    <tr>\n",
              "      <th>34</th>\n",
              "      <td>54</td>\n",
              "      <td>41.69</td>\n",
              "    </tr>\n",
              "    <tr>\n",
              "      <th>59</th>\n",
              "      <td>79</td>\n",
              "      <td>40.91</td>\n",
              "    </tr>\n",
              "    <tr>\n",
              "      <th>33</th>\n",
              "      <td>53</td>\n",
              "      <td>40.73</td>\n",
              "    </tr>\n",
              "    <tr>\n",
              "      <th>27</th>\n",
              "      <td>47</td>\n",
              "      <td>40.68</td>\n",
              "    </tr>\n",
              "    <tr>\n",
              "      <th>31</th>\n",
              "      <td>51</td>\n",
              "      <td>40.67</td>\n",
              "    </tr>\n",
              "    <tr>\n",
              "      <th>32</th>\n",
              "      <td>52</td>\n",
              "      <td>40.17</td>\n",
              "    </tr>\n",
              "    <tr>\n",
              "      <th>28</th>\n",
              "      <td>48</td>\n",
              "      <td>39.96</td>\n",
              "    </tr>\n",
              "    <tr>\n",
              "      <th>26</th>\n",
              "      <td>46</td>\n",
              "      <td>39.62</td>\n",
              "    </tr>\n",
              "    <tr>\n",
              "      <th>25</th>\n",
              "      <td>45</td>\n",
              "      <td>39.24</td>\n",
              "    </tr>\n",
              "  </tbody>\n",
              "</table>\n",
              "</div>"
            ],
            "text/plain": [
              "    age  Percent_g50k\n",
              "30   50         43.36\n",
              "34   54         41.69\n",
              "59   79         40.91\n",
              "33   53         40.73\n",
              "27   47         40.68\n",
              "31   51         40.67\n",
              "32   52         40.17\n",
              "28   48         39.96\n",
              "26   46         39.62\n",
              "25   45         39.24"
            ]
          },
          "metadata": {
            "tags": []
          },
          "execution_count": 109
        }
      ]
    },
    {
      "metadata": {
        "id": "yig_G9wkoQBJ",
        "colab_type": "code",
        "outputId": "0aa1da0c-6a71-48fd-f9f0-5e006ecd7989",
        "colab": {
          "base_uri": "https://localhost:8080/",
          "height": 376
        }
      },
      "cell_type": "code",
      "source": [
        "# Shows by percent, Top 10 Ages earning less than or equal to 50,000 USD\n",
        "print('By percent, Top 10 Ages earning less than or equal to 50,000 USD')\n",
        "age_combined['Percent_l50k'] = round(y1 / y3 * 100, 2)\n",
        "age_combined[['age','Percent_l50k']].nlargest(10, 'Percent_l50k')"
      ],
      "execution_count": 110,
      "outputs": [
        {
          "output_type": "stream",
          "text": [
            "By percent, Top 10 Ages earning less than or equal to 50,000 USD\n"
          ],
          "name": "stdout"
        },
        {
          "output_type": "execute_result",
          "data": {
            "text/html": [
              "<div>\n",
              "<style scoped>\n",
              "    .dataframe tbody tr th:only-of-type {\n",
              "        vertical-align: middle;\n",
              "    }\n",
              "\n",
              "    .dataframe tbody tr th {\n",
              "        vertical-align: top;\n",
              "    }\n",
              "\n",
              "    .dataframe thead th {\n",
              "        text-align: right;\n",
              "    }\n",
              "</style>\n",
              "<table border=\"1\" class=\"dataframe\">\n",
              "  <thead>\n",
              "    <tr style=\"text-align: right;\">\n",
              "      <th></th>\n",
              "      <th>age</th>\n",
              "      <th>Percent_l50k</th>\n",
              "    </tr>\n",
              "  </thead>\n",
              "  <tbody>\n",
              "    <tr>\n",
              "      <th>0</th>\n",
              "      <td>19</td>\n",
              "      <td>99.72</td>\n",
              "    </tr>\n",
              "    <tr>\n",
              "      <th>1</th>\n",
              "      <td>21</td>\n",
              "      <td>99.58</td>\n",
              "    </tr>\n",
              "    <tr>\n",
              "      <th>3</th>\n",
              "      <td>23</td>\n",
              "      <td>98.63</td>\n",
              "    </tr>\n",
              "    <tr>\n",
              "      <th>2</th>\n",
              "      <td>22</td>\n",
              "      <td>98.30</td>\n",
              "    </tr>\n",
              "    <tr>\n",
              "      <th>4</th>\n",
              "      <td>24</td>\n",
              "      <td>96.12</td>\n",
              "    </tr>\n",
              "    <tr>\n",
              "      <th>5</th>\n",
              "      <td>25</td>\n",
              "      <td>93.70</td>\n",
              "    </tr>\n",
              "    <tr>\n",
              "      <th>6</th>\n",
              "      <td>26</td>\n",
              "      <td>91.97</td>\n",
              "    </tr>\n",
              "    <tr>\n",
              "      <th>60</th>\n",
              "      <td>80</td>\n",
              "      <td>90.91</td>\n",
              "    </tr>\n",
              "    <tr>\n",
              "      <th>7</th>\n",
              "      <td>27</td>\n",
              "      <td>90.30</td>\n",
              "    </tr>\n",
              "    <tr>\n",
              "      <th>63</th>\n",
              "      <td>84</td>\n",
              "      <td>90.00</td>\n",
              "    </tr>\n",
              "  </tbody>\n",
              "</table>\n",
              "</div>"
            ],
            "text/plain": [
              "    age  Percent_l50k\n",
              "0    19         99.72\n",
              "1    21         99.58\n",
              "3    23         98.63\n",
              "2    22         98.30\n",
              "4    24         96.12\n",
              "5    25         93.70\n",
              "6    26         91.97\n",
              "60   80         90.91\n",
              "7    27         90.30\n",
              "63   84         90.00"
            ]
          },
          "metadata": {
            "tags": []
          },
          "execution_count": 110
        }
      ]
    },
    {
      "metadata": {
        "id": "khQ31q40rHGU",
        "colab_type": "text"
      },
      "cell_type": "markdown",
      "source": [
        "### Now to take a look at Gender and Age.\n",
        "\n",
        "### We first create a Gender and Age dataframe"
      ]
    },
    {
      "metadata": {
        "id": "1JVzo_sMrmeS",
        "colab_type": "code",
        "colab": {
          "base_uri": "https://localhost:8080/",
          "height": 204
        },
        "outputId": "4c80e14f-dfc4-44d9-811f-28b69c58d20f"
      },
      "cell_type": "code",
      "source": [
        "# Create a Dataframe with Age and Gender only\n",
        "age_gender = df[['age','gender']]\n",
        "\n",
        "# Breakup DataFrame into male and female to get count\n",
        "age_male_only = age_gender[age_gender['gender']==' Male'].groupby('age').agg('count').reset_index()\n",
        "age_female_only = age_gender[age_gender['gender']==' Female'].groupby('age').agg('count').reset_index()\n",
        "\n",
        "age_male_only.columns = ['age','male']\n",
        "age_female_only.columns = ['age', 'female']\n",
        "\n",
        "# Merge the data to share age column \n",
        "age_gender_merged = age_male_only.merge(age_female_only, left_on='age',right_on='age')\n",
        "\n",
        "# Add percent male and percent female to dataframe\n",
        "age_gender_total = age_gender_merged['male'] + age_gender_merged['female']\n",
        "\n",
        "# Create dataframe containing same age value column, with percentage breakdown for Male or Female\n",
        "age_gender_merged['percent_male'] = round(age_gender_merged['male'] / age_gender_total * 100, 2)\n",
        "age_gender_merged['percent_female'] = round(age_gender_merged['female'] / age_gender_total * 100, 2)\n",
        "age_gender_merged['total_percent'] = age_gender_merged['percent_male'] + age_gender_merged['percent_female']\n",
        "\n",
        "age_gender_merged.head()"
      ],
      "execution_count": 111,
      "outputs": [
        {
          "output_type": "execute_result",
          "data": {
            "text/html": [
              "<div>\n",
              "<style scoped>\n",
              "    .dataframe tbody tr th:only-of-type {\n",
              "        vertical-align: middle;\n",
              "    }\n",
              "\n",
              "    .dataframe tbody tr th {\n",
              "        vertical-align: top;\n",
              "    }\n",
              "\n",
              "    .dataframe thead th {\n",
              "        text-align: right;\n",
              "    }\n",
              "</style>\n",
              "<table border=\"1\" class=\"dataframe\">\n",
              "  <thead>\n",
              "    <tr style=\"text-align: right;\">\n",
              "      <th></th>\n",
              "      <th>age</th>\n",
              "      <th>male</th>\n",
              "      <th>female</th>\n",
              "      <th>percent_male</th>\n",
              "      <th>percent_female</th>\n",
              "      <th>total_percent</th>\n",
              "    </tr>\n",
              "  </thead>\n",
              "  <tbody>\n",
              "    <tr>\n",
              "      <th>0</th>\n",
              "      <td>17</td>\n",
              "      <td>209</td>\n",
              "      <td>186</td>\n",
              "      <td>52.91</td>\n",
              "      <td>47.09</td>\n",
              "      <td>100.0</td>\n",
              "    </tr>\n",
              "    <tr>\n",
              "      <th>1</th>\n",
              "      <td>18</td>\n",
              "      <td>282</td>\n",
              "      <td>268</td>\n",
              "      <td>51.27</td>\n",
              "      <td>48.73</td>\n",
              "      <td>100.0</td>\n",
              "    </tr>\n",
              "    <tr>\n",
              "      <th>2</th>\n",
              "      <td>19</td>\n",
              "      <td>356</td>\n",
              "      <td>356</td>\n",
              "      <td>50.00</td>\n",
              "      <td>50.00</td>\n",
              "      <td>100.0</td>\n",
              "    </tr>\n",
              "    <tr>\n",
              "      <th>3</th>\n",
              "      <td>20</td>\n",
              "      <td>390</td>\n",
              "      <td>363</td>\n",
              "      <td>51.79</td>\n",
              "      <td>48.21</td>\n",
              "      <td>100.0</td>\n",
              "    </tr>\n",
              "    <tr>\n",
              "      <th>4</th>\n",
              "      <td>21</td>\n",
              "      <td>391</td>\n",
              "      <td>329</td>\n",
              "      <td>54.31</td>\n",
              "      <td>45.69</td>\n",
              "      <td>100.0</td>\n",
              "    </tr>\n",
              "  </tbody>\n",
              "</table>\n",
              "</div>"
            ],
            "text/plain": [
              "   age  male  female  percent_male  percent_female  total_percent\n",
              "0   17   209     186         52.91           47.09          100.0\n",
              "1   18   282     268         51.27           48.73          100.0\n",
              "2   19   356     356         50.00           50.00          100.0\n",
              "3   20   390     363         51.79           48.21          100.0\n",
              "4   21   391     329         54.31           45.69          100.0"
            ]
          },
          "metadata": {
            "tags": []
          },
          "execution_count": 111
        }
      ]
    },
    {
      "metadata": {
        "id": "l8HPzjVTr6Vw",
        "colab_type": "text"
      },
      "cell_type": "markdown",
      "source": [
        "### Statistics and T-test regarding Gender and Age\n",
        "\n",
        "T-test shows there is a significant difference between the number of Male and Female workforce with a p-value >0.01."
      ]
    },
    {
      "metadata": {
        "id": "VpHpKJOH7IU4",
        "colab_type": "code",
        "outputId": "c44ba0cd-ef38-4f6c-cb32-7d350ec7bb37",
        "colab": {
          "base_uri": "https://localhost:8080/",
          "height": 357
        }
      },
      "cell_type": "code",
      "source": [
        "# Stats for Male workforce by Age\n",
        "print('Stats for Male workforce by Age')\n",
        "age_male_stats = age_gender[age_gender['gender']==' Male']\n",
        "stats(age_male_stats['age'])\n",
        "\n",
        "print('')\n",
        "\n",
        "# Stats for Female workforce by Age\n",
        "print('Stats for Female workforce by Age')\n",
        "age_female_stats = age_gender[age_gender['gender']==' Female']\n",
        "stats(age_female_stats['age'])\n",
        "\n",
        "print('')\n",
        "# T-test comparing Male and Female populations\n",
        "print('T-test comparing Male and Female populations')\n",
        "print(ttest_ind(age_male_stats['age'], age_female_stats['age']))"
      ],
      "execution_count": 112,
      "outputs": [
        {
          "output_type": "stream",
          "text": [
            "Stats for Male workforce by Age\n",
            "Count of rows: 21790\n",
            "Minimum: 17\n",
            "Maximum: 90\n",
            "Mean: 39.43\n",
            "Median: 38.0\n",
            "Standard Deviation: 13.37\n",
            "Mode: 35\n",
            "\n",
            "Stats for Female workforce by Age\n",
            "Count of rows: 10771\n",
            "Minimum: 17\n",
            "Maximum: 90\n",
            "Mean: 36.86\n",
            "Median: 35.0\n",
            "Standard Deviation: 14.01\n",
            "Mode: 20\n",
            "\n",
            "T-test comparing Male and Female populations\n",
            "Ttest_indResult(statistic=16.092517011911756, pvalue=4.8239930687799265e-58)\n"
          ],
          "name": "stdout"
        }
      ]
    },
    {
      "metadata": {
        "id": "jerlNPnesg4I",
        "colab_type": "text"
      },
      "cell_type": "markdown",
      "source": [
        "### By Age and percentage represeneted by a plot chart, Males and Females in the workforce"
      ]
    },
    {
      "metadata": {
        "id": "9VKwQkPZsgMa",
        "colab_type": "code",
        "colab": {
          "base_uri": "https://localhost:8080/",
          "height": 368
        },
        "outputId": "157a771e-d3b2-41bc-c281-1900be422052"
      },
      "cell_type": "code",
      "source": [
        "# Create plot of dataframe\n",
        "plt.figure(figsize=(20,5))\n",
        "plt.plot(age_gender_merged['age'],age_gender_merged['total_percent'], color='#900C3F', label='Female')\n",
        "plt.plot(age_gender_merged['age'],age_gender_merged['percent_male'], color='#FFC300', label='Male')\n",
        "plt.fill_between(age_gender_merged['age'], age_gender_merged['total_percent'], 0, color='#900C3F')\n",
        "plt.fill_between(age_gender_merged['age'], age_gender_merged['percent_male'], 0, color='#FFC300')\n",
        "plt.ylabel('Percentage')\n",
        "plt.xlabel('Age')\n",
        "plt.title('Percentage of the workforce that are Male or Female broken down by Age', fontweight='bold')\n",
        "plt.grid(b=True, which='both', linestyle='dashed', color='black')\n",
        "plt.legend(bbox_to_anchor=(0.560,-0.1), ncol=2)\n",
        "plt.show()"
      ],
      "execution_count": 113,
      "outputs": [
        {
          "output_type": "display_data",
          "data": {
            "image/png": "[encoded data removed]",
            "text/plain": [
              "<Figure size 1440x360 with 1 Axes>"
            ]
          },
          "metadata": {
            "tags": []
          }
        }
      ]
    },
    {
      "metadata": {
        "id": "DbgIjIkzs5g2",
        "colab_type": "text"
      },
      "cell_type": "markdown",
      "source": [
        "### Top 10 Ages where Females and Males are the majority"
      ]
    },
    {
      "metadata": {
        "id": "OmKfzCnZthFe",
        "colab_type": "code",
        "colab": {
          "base_uri": "https://localhost:8080/",
          "height": 376
        },
        "outputId": "f39b0474-acdc-4cdd-99d7-7b35451d2c8b"
      },
      "cell_type": "code",
      "source": [
        "# Shows by percent, Top 10 Ages where the majority are Male\n",
        "print('By percent, Top 10 Ages where the majority are Male')\n",
        "age_gender_merged[['age','percent_male']].nlargest(10, 'percent_male')"
      ],
      "execution_count": 114,
      "outputs": [
        {
          "output_type": "stream",
          "text": [
            "By percent, Top 10 Ages where the majority are Male\n"
          ],
          "name": "stdout"
        },
        {
          "output_type": "execute_result",
          "data": {
            "text/html": [
              "<div>\n",
              "<style scoped>\n",
              "    .dataframe tbody tr th:only-of-type {\n",
              "        vertical-align: middle;\n",
              "    }\n",
              "\n",
              "    .dataframe tbody tr th {\n",
              "        vertical-align: top;\n",
              "    }\n",
              "\n",
              "    .dataframe thead th {\n",
              "        text-align: right;\n",
              "    }\n",
              "</style>\n",
              "<table border=\"1\" class=\"dataframe\">\n",
              "  <thead>\n",
              "    <tr style=\"text-align: right;\">\n",
              "      <th></th>\n",
              "      <th>age</th>\n",
              "      <th>percent_male</th>\n",
              "    </tr>\n",
              "  </thead>\n",
              "  <tbody>\n",
              "    <tr>\n",
              "      <th>65</th>\n",
              "      <td>82</td>\n",
              "      <td>83.33</td>\n",
              "    </tr>\n",
              "    <tr>\n",
              "      <th>66</th>\n",
              "      <td>83</td>\n",
              "      <td>83.33</td>\n",
              "    </tr>\n",
              "    <tr>\n",
              "      <th>62</th>\n",
              "      <td>79</td>\n",
              "      <td>77.27</td>\n",
              "    </tr>\n",
              "    <tr>\n",
              "      <th>63</th>\n",
              "      <td>80</td>\n",
              "      <td>77.27</td>\n",
              "    </tr>\n",
              "    <tr>\n",
              "      <th>37</th>\n",
              "      <td>54</td>\n",
              "      <td>74.70</td>\n",
              "    </tr>\n",
              "    <tr>\n",
              "      <th>43</th>\n",
              "      <td>60</td>\n",
              "      <td>74.68</td>\n",
              "    </tr>\n",
              "    <tr>\n",
              "      <th>40</th>\n",
              "      <td>57</td>\n",
              "      <td>74.58</td>\n",
              "    </tr>\n",
              "    <tr>\n",
              "      <th>33</th>\n",
              "      <td>50</td>\n",
              "      <td>74.09</td>\n",
              "    </tr>\n",
              "    <tr>\n",
              "      <th>44</th>\n",
              "      <td>61</td>\n",
              "      <td>73.67</td>\n",
              "    </tr>\n",
              "    <tr>\n",
              "      <th>42</th>\n",
              "      <td>59</td>\n",
              "      <td>73.52</td>\n",
              "    </tr>\n",
              "  </tbody>\n",
              "</table>\n",
              "</div>"
            ],
            "text/plain": [
              "    age  percent_male\n",
              "65   82         83.33\n",
              "66   83         83.33\n",
              "62   79         77.27\n",
              "63   80         77.27\n",
              "37   54         74.70\n",
              "43   60         74.68\n",
              "40   57         74.58\n",
              "33   50         74.09\n",
              "44   61         73.67\n",
              "42   59         73.52"
            ]
          },
          "metadata": {
            "tags": []
          },
          "execution_count": 114
        }
      ]
    },
    {
      "metadata": {
        "id": "XJea4unKtm5m",
        "colab_type": "code",
        "colab": {
          "base_uri": "https://localhost:8080/",
          "height": 376
        },
        "outputId": "15dada25-839c-4bd1-df3e-4bfdfa836445"
      },
      "cell_type": "code",
      "source": [
        "# Shows by percent, Top 10 Ages where the majority are Female\n",
        "print('By percent, Top 10 Ages where the majority are Female')\n",
        "age_gender_merged[['age','percent_female']].nlargest(10, 'percent_female')"
      ],
      "execution_count": 115,
      "outputs": [
        {
          "output_type": "stream",
          "text": [
            "By percent, Top 10 Ages where the majority are Female\n"
          ],
          "name": "stdout"
        },
        {
          "output_type": "execute_result",
          "data": {
            "text/html": [
              "<div>\n",
              "<style scoped>\n",
              "    .dataframe tbody tr th:only-of-type {\n",
              "        vertical-align: middle;\n",
              "    }\n",
              "\n",
              "    .dataframe tbody tr th {\n",
              "        vertical-align: top;\n",
              "    }\n",
              "\n",
              "    .dataframe thead th {\n",
              "        text-align: right;\n",
              "    }\n",
              "</style>\n",
              "<table border=\"1\" class=\"dataframe\">\n",
              "  <thead>\n",
              "    <tr style=\"text-align: right;\">\n",
              "      <th></th>\n",
              "      <th>age</th>\n",
              "      <th>percent_female</th>\n",
              "    </tr>\n",
              "  </thead>\n",
              "  <tbody>\n",
              "    <tr>\n",
              "      <th>2</th>\n",
              "      <td>19</td>\n",
              "      <td>50.00</td>\n",
              "    </tr>\n",
              "    <tr>\n",
              "      <th>1</th>\n",
              "      <td>18</td>\n",
              "      <td>48.73</td>\n",
              "    </tr>\n",
              "    <tr>\n",
              "      <th>3</th>\n",
              "      <td>20</td>\n",
              "      <td>48.21</td>\n",
              "    </tr>\n",
              "    <tr>\n",
              "      <th>0</th>\n",
              "      <td>17</td>\n",
              "      <td>47.09</td>\n",
              "    </tr>\n",
              "    <tr>\n",
              "      <th>4</th>\n",
              "      <td>21</td>\n",
              "      <td>45.69</td>\n",
              "    </tr>\n",
              "    <tr>\n",
              "      <th>64</th>\n",
              "      <td>81</td>\n",
              "      <td>45.00</td>\n",
              "    </tr>\n",
              "    <tr>\n",
              "      <th>5</th>\n",
              "      <td>22</td>\n",
              "      <td>44.71</td>\n",
              "    </tr>\n",
              "    <tr>\n",
              "      <th>6</th>\n",
              "      <td>23</td>\n",
              "      <td>40.94</td>\n",
              "    </tr>\n",
              "    <tr>\n",
              "      <th>67</th>\n",
              "      <td>84</td>\n",
              "      <td>40.00</td>\n",
              "    </tr>\n",
              "    <tr>\n",
              "      <th>7</th>\n",
              "      <td>24</td>\n",
              "      <td>38.22</td>\n",
              "    </tr>\n",
              "  </tbody>\n",
              "</table>\n",
              "</div>"
            ],
            "text/plain": [
              "    age  percent_female\n",
              "2    19           50.00\n",
              "1    18           48.73\n",
              "3    20           48.21\n",
              "0    17           47.09\n",
              "4    21           45.69\n",
              "64   81           45.00\n",
              "5    22           44.71\n",
              "6    23           40.94\n",
              "67   84           40.00\n",
              "7    24           38.22"
            ]
          },
          "metadata": {
            "tags": []
          },
          "execution_count": 115
        }
      ]
    },
    {
      "metadata": {
        "id": "4-0tth8zB2VM",
        "colab_type": "text"
      },
      "cell_type": "markdown",
      "source": [
        "### Now we begin to look at three variables: Age, Gender, Income\n",
        "\n",
        "There are two dataframes created:\n",
        "- One for those who earn <=50k USD\n",
        "- Second one for those who earn >50k USD\n",
        "\n",
        "### We begin with those who earn <=50k USD first"
      ]
    },
    {
      "metadata": {
        "id": "tPNEOZ3QMSta",
        "colab_type": "code",
        "outputId": "ea8f70c9-fa09-49b6-859d-6d29d373f89f",
        "colab": {
          "base_uri": "https://localhost:8080/",
          "height": 204
        }
      },
      "cell_type": "code",
      "source": [
        "# Now need to create two separate dataframes:\n",
        "# One for those who earn <=50k USD\n",
        "# Second for those who earn >50k USD\n",
        "\n",
        "# Create a DataFrame with Age, Gender, Income\n",
        "age_gender_income = df[['age','gender','income_bracket']]\n",
        "\n",
        "# Split the data so that we have two dataframes:\n",
        "# Age with lesser than $50k\n",
        "age_gender_income_l50k = age_gender_income[age_gender_income['income_bracket']==' <=50K']\n",
        "\n",
        "# Now, for those earning <=50k, what percentage is male, and what percentage is female\n",
        "age_gender_income_l50k_male = age_gender_income_l50k[age_gender_income_l50k['gender']==' Male'].groupby('age').agg('count').reset_index()\n",
        "age_gender_income_l50k_female = age_gender_income_l50k[age_gender_income_l50k['gender']==' Female'].groupby('age').agg('count').reset_index()\n",
        "\n",
        "# Rename columns so I can merge dataframes\n",
        "age_gender_income_l50k_male.columns = ['age','male_count','income_bracket_count']\n",
        "age_gender_income_l50k_female.columns = ['age','female_count','income_bracket_count']\n",
        "\n",
        "# Merge\n",
        "age_gender_income_l50k_merge = age_gender_income_l50k_male[['age','male_count']].merge(age_gender_income_l50k_female[['age','female_count']], left_on='age', right_on='age')\n",
        "\n",
        "# Add percentages to dataframe\n",
        "age_gender_income_150k_merge_t = age_gender_income_l50k_merge['male_count'] + age_gender_income_l50k_merge['female_count']\n",
        "age_gender_income_l50k_merge['p_male'] = round(age_gender_income_l50k_merge['male_count'] / age_gender_income_150k_merge_t * 100, 2)\n",
        "age_gender_income_l50k_merge['p_female'] = round(age_gender_income_l50k_merge['female_count'] / age_gender_income_150k_merge_t * 100, 2)\n",
        "\n",
        "age_gender_income_l50k_merge.head()"
      ],
      "execution_count": 116,
      "outputs": [
        {
          "output_type": "execute_result",
          "data": {
            "text/html": [
              "<div>\n",
              "<style scoped>\n",
              "    .dataframe tbody tr th:only-of-type {\n",
              "        vertical-align: middle;\n",
              "    }\n",
              "\n",
              "    .dataframe tbody tr th {\n",
              "        vertical-align: top;\n",
              "    }\n",
              "\n",
              "    .dataframe thead th {\n",
              "        text-align: right;\n",
              "    }\n",
              "</style>\n",
              "<table border=\"1\" class=\"dataframe\">\n",
              "  <thead>\n",
              "    <tr style=\"text-align: right;\">\n",
              "      <th></th>\n",
              "      <th>age</th>\n",
              "      <th>male_count</th>\n",
              "      <th>female_count</th>\n",
              "      <th>p_male</th>\n",
              "      <th>p_female</th>\n",
              "    </tr>\n",
              "  </thead>\n",
              "  <tbody>\n",
              "    <tr>\n",
              "      <th>0</th>\n",
              "      <td>17</td>\n",
              "      <td>209</td>\n",
              "      <td>186</td>\n",
              "      <td>52.91</td>\n",
              "      <td>47.09</td>\n",
              "    </tr>\n",
              "    <tr>\n",
              "      <th>1</th>\n",
              "      <td>18</td>\n",
              "      <td>282</td>\n",
              "      <td>268</td>\n",
              "      <td>51.27</td>\n",
              "      <td>48.73</td>\n",
              "    </tr>\n",
              "    <tr>\n",
              "      <th>2</th>\n",
              "      <td>19</td>\n",
              "      <td>355</td>\n",
              "      <td>355</td>\n",
              "      <td>50.00</td>\n",
              "      <td>50.00</td>\n",
              "    </tr>\n",
              "    <tr>\n",
              "      <th>3</th>\n",
              "      <td>20</td>\n",
              "      <td>390</td>\n",
              "      <td>363</td>\n",
              "      <td>51.79</td>\n",
              "      <td>48.21</td>\n",
              "    </tr>\n",
              "    <tr>\n",
              "      <th>4</th>\n",
              "      <td>21</td>\n",
              "      <td>390</td>\n",
              "      <td>327</td>\n",
              "      <td>54.39</td>\n",
              "      <td>45.61</td>\n",
              "    </tr>\n",
              "  </tbody>\n",
              "</table>\n",
              "</div>"
            ],
            "text/plain": [
              "   age  male_count  female_count  p_male  p_female\n",
              "0   17         209           186   52.91     47.09\n",
              "1   18         282           268   51.27     48.73\n",
              "2   19         355           355   50.00     50.00\n",
              "3   20         390           363   51.79     48.21\n",
              "4   21         390           327   54.39     45.61"
            ]
          },
          "metadata": {
            "tags": []
          },
          "execution_count": 116
        }
      ]
    },
    {
      "metadata": {
        "id": "sLCnxFlqwJPp",
        "colab_type": "text"
      },
      "cell_type": "markdown",
      "source": [
        "### Generate Statistics for Female and Males who earn <=50k USD"
      ]
    },
    {
      "metadata": {
        "id": "cj1_Y0UDwWcK",
        "colab_type": "code",
        "colab": {
          "base_uri": "https://localhost:8080/",
          "height": 153
        },
        "outputId": "24128331-525c-410d-c3be-a3f860d2e464"
      },
      "cell_type": "code",
      "source": [
        "# For people who earn <=50k USD, stats for Male workforce by Age\n",
        "print('For people who earn <=50k USD, stats for Male workforce by Age')\n",
        "age_male_l50k_stats = age_gender_income_l50k[age_gender_income_l50k['gender']==' Male']\n",
        "stats(age_male_l50k_stats['age'])"
      ],
      "execution_count": 117,
      "outputs": [
        {
          "output_type": "stream",
          "text": [
            "For people who earn <=50k USD, stats for Male workforce by Age\n",
            "Count of rows: 15128\n",
            "Minimum: 17\n",
            "Maximum: 90\n",
            "Mean: 37.15\n",
            "Median: 35.0\n",
            "Standard Deviation: 13.86\n",
            "Mode: 23\n"
          ],
          "name": "stdout"
        }
      ]
    },
    {
      "metadata": {
        "id": "ge-7xWMPwenp",
        "colab_type": "code",
        "colab": {
          "base_uri": "https://localhost:8080/",
          "height": 153
        },
        "outputId": "2fe5c655-716b-438a-90bd-0345df1d6811"
      },
      "cell_type": "code",
      "source": [
        "# For people who earn <=50k USD, stats for Female workforce by Age\n",
        "print('For people who earn <=50k USD, stats for Female workforce by Age')\n",
        "age_female_l50k_stats = age_gender_income_l50k[age_gender_income_l50k['gender']==' Female']\n",
        "stats(age_female_l50k_stats['age'])"
      ],
      "execution_count": 118,
      "outputs": [
        {
          "output_type": "stream",
          "text": [
            "For people who earn <=50k USD, stats for Female workforce by Age\n",
            "Count of rows: 9592\n",
            "Minimum: 17\n",
            "Maximum: 90\n",
            "Mean: 36.21\n",
            "Median: 34.0\n",
            "Standard Deviation: 14.26\n",
            "Mode: 20\n"
          ],
          "name": "stdout"
        }
      ]
    },
    {
      "metadata": {
        "id": "UxBXLhi6wi0o",
        "colab_type": "text"
      },
      "cell_type": "markdown",
      "source": [
        "### T-test for those earning <=50k USD, comparing Males and Females by Age\n",
        "T-test shows there's a significant difference and the p-value is <0.01"
      ]
    },
    {
      "metadata": {
        "id": "gz4pcxZow1Q4",
        "colab_type": "code",
        "colab": {
          "base_uri": "https://localhost:8080/",
          "height": 51
        },
        "outputId": "e10dc7ea-4bc6-4f06-acb0-8ad4bad4a267"
      },
      "cell_type": "code",
      "source": [
        "# T-test for those earning <=50k USD, comparing Males and Females by Age\n",
        "print('T-test for those earning <=50k USD, comparing Males and Females by Age')\n",
        "print(ttest_ind(age_male_l50k_stats['age'], age_female_l50k_stats['age']))"
      ],
      "execution_count": 119,
      "outputs": [
        {
          "output_type": "stream",
          "text": [
            "T-test for those earning <=50k USD, comparing Males and Females by Age\n",
            "Ttest_indResult(statistic=5.118769813761817, pvalue=3.098380651743999e-07)\n"
          ],
          "name": "stdout"
        }
      ]
    },
    {
      "metadata": {
        "id": "G29zH5R_w-iw",
        "colab_type": "text"
      },
      "cell_type": "markdown",
      "source": [
        "### A plot for those earning <=50k USD of the percentage of Males and Females by Age"
      ]
    },
    {
      "metadata": {
        "id": "KPcj5izfu4Aa",
        "colab_type": "code",
        "colab": {
          "base_uri": "https://localhost:8080/",
          "height": 368
        },
        "outputId": "bc1afbb6-858e-4bb9-9598-a5382234fb2f"
      },
      "cell_type": "code",
      "source": [
        "# Create plot of dataframe\n",
        "plt.figure(figsize=(20,5))\n",
        "plt.plot(age_gender_income_l50k_merge['age'],age_gender_income_l50k_merge['p_male'] + age_gender_income_l50k_merge['p_female'], color='#FFC300', label='Male')\n",
        "plt.plot(age_gender_income_l50k_merge['age'],age_gender_income_l50k_merge['p_female'], color='#900C3F', label='Female')\n",
        "plt.fill_between(age_gender_income_l50k_merge['age'], age_gender_income_l50k_merge['p_male'] + age_gender_income_l50k_merge['p_female'], 0, color='#FFC300')\n",
        "plt.fill_between(age_gender_income_l50k_merge['age'], age_gender_income_l50k_merge['p_female'], 0, color='#900C3F')\n",
        "plt.ylabel('Percentage')\n",
        "plt.xlabel('Age')\n",
        "plt.title('For people who earn <=50k USD, percentage of the workforce that are Male or Female broken down by Age', fontweight='bold')\n",
        "plt.grid(b=True, which='both', linestyle='dashed', color='black')\n",
        "plt.legend(bbox_to_anchor=(0.560,-0.1), ncol=2)\n",
        "plt.show()"
      ],
      "execution_count": 120,
      "outputs": [
        {
          "output_type": "display_data",
          "data": {
            "image/png": "[encoded data removed]",
            "text/plain": [
              "<Figure size 1440x360 with 1 Axes>"
            ]
          },
          "metadata": {
            "tags": []
          }
        }
      ]
    },
    {
      "metadata": {
        "id": "B2vsibplxhJ3",
        "colab_type": "text"
      },
      "cell_type": "markdown",
      "source": [
        "### For those earning <=50k USD, Top 10 Ages where Females and Males are the majority"
      ]
    },
    {
      "metadata": {
        "id": "-MbTqBL8xcPZ",
        "colab_type": "code",
        "colab": {
          "base_uri": "https://localhost:8080/",
          "height": 376
        },
        "outputId": "bc26310c-8c3f-474b-cba7-47d7cf0ea23a"
      },
      "cell_type": "code",
      "source": [
        "# For people who earn <=50k USD, shows by percent, Top 10 Ages for Male workers\n",
        "print('For people who earn <=50k USD, by percent, Top 10 Ages where Males are the majority')\n",
        "age_gender_income_l50k_merge[['age','p_male']].nlargest(10, 'p_male')"
      ],
      "execution_count": 121,
      "outputs": [
        {
          "output_type": "stream",
          "text": [
            "For people who earn <=50k USD, by percent, Top 10 Ages where Males are the majority\n"
          ],
          "name": "stdout"
        },
        {
          "output_type": "execute_result",
          "data": {
            "text/html": [
              "<div>\n",
              "<style scoped>\n",
              "    .dataframe tbody tr th:only-of-type {\n",
              "        vertical-align: middle;\n",
              "    }\n",
              "\n",
              "    .dataframe tbody tr th {\n",
              "        vertical-align: top;\n",
              "    }\n",
              "\n",
              "    .dataframe thead th {\n",
              "        text-align: right;\n",
              "    }\n",
              "</style>\n",
              "<table border=\"1\" class=\"dataframe\">\n",
              "  <thead>\n",
              "    <tr style=\"text-align: right;\">\n",
              "      <th></th>\n",
              "      <th>age</th>\n",
              "      <th>p_male</th>\n",
              "    </tr>\n",
              "  </thead>\n",
              "  <tbody>\n",
              "    <tr>\n",
              "      <th>65</th>\n",
              "      <td>82</td>\n",
              "      <td>83.33</td>\n",
              "    </tr>\n",
              "    <tr>\n",
              "      <th>63</th>\n",
              "      <td>80</td>\n",
              "      <td>75.00</td>\n",
              "    </tr>\n",
              "    <tr>\n",
              "      <th>66</th>\n",
              "      <td>83</td>\n",
              "      <td>75.00</td>\n",
              "    </tr>\n",
              "    <tr>\n",
              "      <th>62</th>\n",
              "      <td>79</td>\n",
              "      <td>69.23</td>\n",
              "    </tr>\n",
              "    <tr>\n",
              "      <th>18</th>\n",
              "      <td>35</td>\n",
              "      <td>68.74</td>\n",
              "    </tr>\n",
              "    <tr>\n",
              "      <th>43</th>\n",
              "      <td>60</td>\n",
              "      <td>68.25</td>\n",
              "    </tr>\n",
              "    <tr>\n",
              "      <th>16</th>\n",
              "      <td>33</td>\n",
              "      <td>67.98</td>\n",
              "    </tr>\n",
              "    <tr>\n",
              "      <th>20</th>\n",
              "      <td>37</td>\n",
              "      <td>67.31</td>\n",
              "    </tr>\n",
              "    <tr>\n",
              "      <th>46</th>\n",
              "      <td>63</td>\n",
              "      <td>67.25</td>\n",
              "    </tr>\n",
              "    <tr>\n",
              "      <th>68</th>\n",
              "      <td>85</td>\n",
              "      <td>66.67</td>\n",
              "    </tr>\n",
              "  </tbody>\n",
              "</table>\n",
              "</div>"
            ],
            "text/plain": [
              "    age  p_male\n",
              "65   82   83.33\n",
              "63   80   75.00\n",
              "66   83   75.00\n",
              "62   79   69.23\n",
              "18   35   68.74\n",
              "43   60   68.25\n",
              "16   33   67.98\n",
              "20   37   67.31\n",
              "46   63   67.25\n",
              "68   85   66.67"
            ]
          },
          "metadata": {
            "tags": []
          },
          "execution_count": 121
        }
      ]
    },
    {
      "metadata": {
        "id": "WZj3GT-9xxVP",
        "colab_type": "code",
        "colab": {
          "base_uri": "https://localhost:8080/",
          "height": 376
        },
        "outputId": "3c8076c3-355e-4f5a-a572-66665b11e451"
      },
      "cell_type": "code",
      "source": [
        "# For people who earn <=50k USD, shows by percent, Top 10 Ages for Female workers\n",
        "print('For people who earn <=50k USD, by percent, Top 10 Ages where Females are the majority')\n",
        "age_gender_income_l50k_merge[['age','p_female']].nlargest(10, 'p_female')"
      ],
      "execution_count": 122,
      "outputs": [
        {
          "output_type": "stream",
          "text": [
            "For people who earn <=50k USD, by percent, Top 10 Ages where Females are the majority\n"
          ],
          "name": "stdout"
        },
        {
          "output_type": "execute_result",
          "data": {
            "text/html": [
              "<div>\n",
              "<style scoped>\n",
              "    .dataframe tbody tr th:only-of-type {\n",
              "        vertical-align: middle;\n",
              "    }\n",
              "\n",
              "    .dataframe tbody tr th {\n",
              "        vertical-align: top;\n",
              "    }\n",
              "\n",
              "    .dataframe thead th {\n",
              "        text-align: right;\n",
              "    }\n",
              "</style>\n",
              "<table border=\"1\" class=\"dataframe\">\n",
              "  <thead>\n",
              "    <tr style=\"text-align: right;\">\n",
              "      <th></th>\n",
              "      <th>age</th>\n",
              "      <th>p_female</th>\n",
              "    </tr>\n",
              "  </thead>\n",
              "  <tbody>\n",
              "    <tr>\n",
              "      <th>64</th>\n",
              "      <td>81</td>\n",
              "      <td>52.94</td>\n",
              "    </tr>\n",
              "    <tr>\n",
              "      <th>2</th>\n",
              "      <td>19</td>\n",
              "      <td>50.00</td>\n",
              "    </tr>\n",
              "    <tr>\n",
              "      <th>1</th>\n",
              "      <td>18</td>\n",
              "      <td>48.73</td>\n",
              "    </tr>\n",
              "    <tr>\n",
              "      <th>3</th>\n",
              "      <td>20</td>\n",
              "      <td>48.21</td>\n",
              "    </tr>\n",
              "    <tr>\n",
              "      <th>0</th>\n",
              "      <td>17</td>\n",
              "      <td>47.09</td>\n",
              "    </tr>\n",
              "    <tr>\n",
              "      <th>4</th>\n",
              "      <td>21</td>\n",
              "      <td>45.61</td>\n",
              "    </tr>\n",
              "    <tr>\n",
              "      <th>38</th>\n",
              "      <td>55</td>\n",
              "      <td>45.42</td>\n",
              "    </tr>\n",
              "    <tr>\n",
              "      <th>5</th>\n",
              "      <td>22</td>\n",
              "      <td>44.95</td>\n",
              "    </tr>\n",
              "    <tr>\n",
              "      <th>54</th>\n",
              "      <td>71</td>\n",
              "      <td>44.64</td>\n",
              "    </tr>\n",
              "    <tr>\n",
              "      <th>67</th>\n",
              "      <td>84</td>\n",
              "      <td>44.44</td>\n",
              "    </tr>\n",
              "  </tbody>\n",
              "</table>\n",
              "</div>"
            ],
            "text/plain": [
              "    age  p_female\n",
              "64   81     52.94\n",
              "2    19     50.00\n",
              "1    18     48.73\n",
              "3    20     48.21\n",
              "0    17     47.09\n",
              "4    21     45.61\n",
              "38   55     45.42\n",
              "5    22     44.95\n",
              "54   71     44.64\n",
              "67   84     44.44"
            ]
          },
          "metadata": {
            "tags": []
          },
          "execution_count": 122
        }
      ]
    },
    {
      "metadata": {
        "colab_type": "text",
        "id": "GEiMzjMAyCv2"
      },
      "cell_type": "markdown",
      "source": [
        "### Now generate a dataframe for those who earn >50k USD with variables: Age, Gender, Income"
      ]
    },
    {
      "metadata": {
        "id": "Wc1xB3Jay4_E",
        "colab_type": "code",
        "colab": {
          "base_uri": "https://localhost:8080/",
          "height": 204
        },
        "outputId": "fea8601d-0835-466a-f3af-1c06123e4a8c"
      },
      "cell_type": "code",
      "source": [
        "# Second for those who earn >50k USD\n",
        "\n",
        "# Age with greater than $50k\n",
        "age_gender_income_g50k = age_gender_income[age_gender_income['income_bracket']==' >50K']\n",
        "\n",
        "# Now, for those earning >50k, what percentage is male, and what percentage is female\n",
        "age_gender_income_g50k_male = age_gender_income_g50k[age_gender_income_g50k['gender']==' Male'].groupby('age').agg('count').reset_index()\n",
        "age_gender_income_g50k_female = age_gender_income_g50k[age_gender_income_g50k['gender']==' Female'].groupby('age').agg('count').reset_index()\n",
        "\n",
        "# Rename columns so I can merge dataframes\n",
        "age_gender_income_g50k_male.columns = ['age','male_count','income_bracket_count']\n",
        "age_gender_income_g50k_female.columns = ['age','female_count','income_bracket_count']\n",
        "\n",
        "# Merge\n",
        "age_gender_income_g50k_merge = age_gender_income_g50k_male[['age','male_count']].merge(age_gender_income_g50k_female[['age','female_count']], left_on='age', right_on='age')\n",
        "\n",
        "# Add percentages to dataframe\n",
        "age_gender_income_g50k_merge_t = age_gender_income_g50k_merge['male_count'] + age_gender_income_g50k_merge['female_count']\n",
        "age_gender_income_g50k_merge['p_male'] = round(age_gender_income_g50k_merge['male_count'] / age_gender_income_g50k_merge_t * 100, 2)\n",
        "age_gender_income_g50k_merge['p_female'] = round(age_gender_income_g50k_merge['female_count'] / age_gender_income_g50k_merge_t * 100, 2)\n",
        "\n",
        "age_gender_income_g50k_merge.head()"
      ],
      "execution_count": 123,
      "outputs": [
        {
          "output_type": "execute_result",
          "data": {
            "text/html": [
              "<div>\n",
              "<style scoped>\n",
              "    .dataframe tbody tr th:only-of-type {\n",
              "        vertical-align: middle;\n",
              "    }\n",
              "\n",
              "    .dataframe tbody tr th {\n",
              "        vertical-align: top;\n",
              "    }\n",
              "\n",
              "    .dataframe thead th {\n",
              "        text-align: right;\n",
              "    }\n",
              "</style>\n",
              "<table border=\"1\" class=\"dataframe\">\n",
              "  <thead>\n",
              "    <tr style=\"text-align: right;\">\n",
              "      <th></th>\n",
              "      <th>age</th>\n",
              "      <th>male_count</th>\n",
              "      <th>female_count</th>\n",
              "      <th>p_male</th>\n",
              "      <th>p_female</th>\n",
              "    </tr>\n",
              "  </thead>\n",
              "  <tbody>\n",
              "    <tr>\n",
              "      <th>0</th>\n",
              "      <td>19</td>\n",
              "      <td>1</td>\n",
              "      <td>1</td>\n",
              "      <td>50.00</td>\n",
              "      <td>50.00</td>\n",
              "    </tr>\n",
              "    <tr>\n",
              "      <th>1</th>\n",
              "      <td>21</td>\n",
              "      <td>1</td>\n",
              "      <td>2</td>\n",
              "      <td>33.33</td>\n",
              "      <td>66.67</td>\n",
              "    </tr>\n",
              "    <tr>\n",
              "      <th>2</th>\n",
              "      <td>22</td>\n",
              "      <td>9</td>\n",
              "      <td>4</td>\n",
              "      <td>69.23</td>\n",
              "      <td>30.77</td>\n",
              "    </tr>\n",
              "    <tr>\n",
              "      <th>3</th>\n",
              "      <td>23</td>\n",
              "      <td>10</td>\n",
              "      <td>2</td>\n",
              "      <td>83.33</td>\n",
              "      <td>16.67</td>\n",
              "    </tr>\n",
              "    <tr>\n",
              "      <th>4</th>\n",
              "      <td>24</td>\n",
              "      <td>23</td>\n",
              "      <td>8</td>\n",
              "      <td>74.19</td>\n",
              "      <td>25.81</td>\n",
              "    </tr>\n",
              "  </tbody>\n",
              "</table>\n",
              "</div>"
            ],
            "text/plain": [
              "   age  male_count  female_count  p_male  p_female\n",
              "0   19           1             1   50.00     50.00\n",
              "1   21           1             2   33.33     66.67\n",
              "2   22           9             4   69.23     30.77\n",
              "3   23          10             2   83.33     16.67\n",
              "4   24          23             8   74.19     25.81"
            ]
          },
          "metadata": {
            "tags": []
          },
          "execution_count": 123
        }
      ]
    },
    {
      "metadata": {
        "colab_type": "text",
        "id": "QnTYY9YDydQZ"
      },
      "cell_type": "markdown",
      "source": [
        "### Generate Statistics for Female and Males who earn >50k USD"
      ]
    },
    {
      "metadata": {
        "id": "nqdTZexHzAMg",
        "colab_type": "code",
        "colab": {
          "base_uri": "https://localhost:8080/",
          "height": 153
        },
        "outputId": "5adfa286-bcaa-48a3-e17f-c9bfa4fc3d51"
      },
      "cell_type": "code",
      "source": [
        "# For people who earn >50k USD, stats for Male workforce by Age\n",
        "print('For people who earn >50k USD, stats for Male workforce by Age')\n",
        "age_male_g50k_stats = age_gender_income_g50k[age_gender_income_g50k['gender']==' Male']\n",
        "stats(age_male_g50k_stats['age'])"
      ],
      "execution_count": 124,
      "outputs": [
        {
          "output_type": "stream",
          "text": [
            "For people who earn >50k USD, stats for Male workforce by Age\n",
            "Count of rows: 6662\n",
            "Minimum: 19\n",
            "Maximum: 90\n",
            "Mean: 44.63\n",
            "Median: 44.0\n",
            "Standard Deviation: 10.49\n",
            "Mode: 46\n"
          ],
          "name": "stdout"
        }
      ]
    },
    {
      "metadata": {
        "id": "U1zAmoujzGv8",
        "colab_type": "code",
        "colab": {
          "base_uri": "https://localhost:8080/",
          "height": 153
        },
        "outputId": "fd435529-b05c-42c4-e9bf-a515ba03fc00"
      },
      "cell_type": "code",
      "source": [
        "# For people who earn >50k USD, stats for Female workforce by Age\n",
        "print('For people who earn >50k USD, stats for Females workforce by Age')\n",
        "age_female_g50k_stats = age_gender_income_g50k[age_gender_income_g50k['gender']==' Female']\n",
        "stats(age_female_g50k_stats['age'])"
      ],
      "execution_count": 125,
      "outputs": [
        {
          "output_type": "stream",
          "text": [
            "For people who earn >50k USD, stats for Females workforce by Age\n",
            "Count of rows: 1179\n",
            "Minimum: 19\n",
            "Maximum: 90\n",
            "Mean: 42.13\n",
            "Median: 41.0\n",
            "Standard Deviation: 10.46\n",
            "Mode: 43\n"
          ],
          "name": "stdout"
        }
      ]
    },
    {
      "metadata": {
        "colab_type": "text",
        "id": "Cn0JvqSjyezh"
      },
      "cell_type": "markdown",
      "source": [
        "### T-test for those earning >50k USD, comparing Males and Females by Age\n",
        "T-test shows there's a significant difference and the p-value is <0.01"
      ]
    },
    {
      "metadata": {
        "id": "GJQ5YEdJzQ_0",
        "colab_type": "code",
        "colab": {
          "base_uri": "https://localhost:8080/",
          "height": 51
        },
        "outputId": "67f8c63d-2992-4805-dd1b-1ce4d86cf0e0"
      },
      "cell_type": "code",
      "source": [
        "# T-test for those earning >50k USD, comparing Males and Females by Age\n",
        "print('T-test for those earning >50k USD, comparing Males and Females by Age')\n",
        "print(ttest_ind(age_male_g50k_stats['age'], age_female_g50k_stats['age']))"
      ],
      "execution_count": 126,
      "outputs": [
        {
          "output_type": "stream",
          "text": [
            "T-test for those earning >50k USD, comparing Males and Females by Age\n",
            "Ttest_indResult(statistic=7.549673624514367, pvalue=4.8548482832255065e-14)\n"
          ],
          "name": "stdout"
        }
      ]
    },
    {
      "metadata": {
        "colab_type": "text",
        "id": "G-QL2vaNyoBe"
      },
      "cell_type": "markdown",
      "source": [
        "### A plot for those earning >50k USD of the percentage of Males and Females by Age"
      ]
    },
    {
      "metadata": {
        "id": "KW8y_aswzYn7",
        "colab_type": "code",
        "colab": {
          "base_uri": "https://localhost:8080/",
          "height": 368
        },
        "outputId": "16bf524d-136a-47b5-bd27-748087e5e10a"
      },
      "cell_type": "code",
      "source": [
        "# Create plot of dataframe\n",
        "plt.figure(figsize=(20,5))\n",
        "plt.plot(age_gender_income_g50k_merge['age'],age_gender_income_g50k_merge['p_male'] + age_gender_income_g50k_merge['p_female'], color='#FFC300', label='Male')\n",
        "plt.plot(age_gender_income_g50k_merge['age'],age_gender_income_g50k_merge['p_female'], color='#900C3F', label='Female')\n",
        "plt.fill_between(age_gender_income_g50k_merge['age'], age_gender_income_g50k_merge['p_male'] + age_gender_income_g50k_merge['p_female'], 0, color='#FFC300')\n",
        "plt.fill_between(age_gender_income_g50k_merge['age'], age_gender_income_g50k_merge['p_female'], 0, color='#900C3F')\n",
        "plt.ylabel('Percentage')\n",
        "plt.xlabel('Age')\n",
        "plt.title('For people who earn >50k USD, percentage of the workforce that are Male or Female broken down by Age', fontweight='bold')\n",
        "plt.grid(b=True, which='both', linestyle='dashed', color='black')\n",
        "plt.legend(bbox_to_anchor=(0.560,-0.1), ncol=2)\n",
        "plt.show()"
      ],
      "execution_count": 127,
      "outputs": [
        {
          "output_type": "display_data",
          "data": {
            "image/png": "[encoded data removed]",
            "text/plain": [
              "<Figure size 1440x360 with 1 Axes>"
            ]
          },
          "metadata": {
            "tags": []
          }
        }
      ]
    },
    {
      "metadata": {
        "colab_type": "text",
        "id": "9ugPjQEXy02K"
      },
      "cell_type": "markdown",
      "source": [
        "### For those earning >50k USD, Top 10 Ages where Females and Males are the majority"
      ]
    },
    {
      "metadata": {
        "id": "gOMBLBK5ziH0",
        "colab_type": "code",
        "colab": {
          "base_uri": "https://localhost:8080/",
          "height": 376
        },
        "outputId": "2326a192-ef77-41fe-e2fd-0958dc5f27dd"
      },
      "cell_type": "code",
      "source": [
        "# For people who earn >50k USD, shows by percent, Top 10 Ages for Male workers\n",
        "print('For people who earn >50k USD, by percent, Top 10 Ages where it is primarily Male workers')\n",
        "age_gender_income_g50k_merge[['age','p_male']].nlargest(10, 'p_male')"
      ],
      "execution_count": 128,
      "outputs": [
        {
          "output_type": "stream",
          "text": [
            "For people who earn >50k USD, by percent, Top 10 Ages where it is primarily Male workers\n"
          ],
          "name": "stdout"
        },
        {
          "output_type": "execute_result",
          "data": {
            "text/html": [
              "<div>\n",
              "<style scoped>\n",
              "    .dataframe tbody tr th:only-of-type {\n",
              "        vertical-align: middle;\n",
              "    }\n",
              "\n",
              "    .dataframe tbody tr th {\n",
              "        vertical-align: top;\n",
              "    }\n",
              "\n",
              "    .dataframe thead th {\n",
              "        text-align: right;\n",
              "    }\n",
              "</style>\n",
              "<table border=\"1\" class=\"dataframe\">\n",
              "  <thead>\n",
              "    <tr style=\"text-align: right;\">\n",
              "      <th></th>\n",
              "      <th>age</th>\n",
              "      <th>p_male</th>\n",
              "    </tr>\n",
              "  </thead>\n",
              "  <tbody>\n",
              "    <tr>\n",
              "      <th>45</th>\n",
              "      <td>65</td>\n",
              "      <td>97.67</td>\n",
              "    </tr>\n",
              "    <tr>\n",
              "      <th>49</th>\n",
              "      <td>69</td>\n",
              "      <td>95.24</td>\n",
              "    </tr>\n",
              "    <tr>\n",
              "      <th>50</th>\n",
              "      <td>70</td>\n",
              "      <td>94.74</td>\n",
              "    </tr>\n",
              "    <tr>\n",
              "      <th>41</th>\n",
              "      <td>61</td>\n",
              "      <td>93.75</td>\n",
              "    </tr>\n",
              "    <tr>\n",
              "      <th>51</th>\n",
              "      <td>71</td>\n",
              "      <td>93.75</td>\n",
              "    </tr>\n",
              "    <tr>\n",
              "      <th>37</th>\n",
              "      <td>57</td>\n",
              "      <td>92.37</td>\n",
              "    </tr>\n",
              "    <tr>\n",
              "      <th>35</th>\n",
              "      <td>55</td>\n",
              "      <td>91.10</td>\n",
              "    </tr>\n",
              "    <tr>\n",
              "      <th>34</th>\n",
              "      <td>54</td>\n",
              "      <td>90.17</td>\n",
              "    </tr>\n",
              "    <tr>\n",
              "      <th>24</th>\n",
              "      <td>44</td>\n",
              "      <td>89.32</td>\n",
              "    </tr>\n",
              "    <tr>\n",
              "      <th>25</th>\n",
              "      <td>45</td>\n",
              "      <td>88.89</td>\n",
              "    </tr>\n",
              "  </tbody>\n",
              "</table>\n",
              "</div>"
            ],
            "text/plain": [
              "    age  p_male\n",
              "45   65   97.67\n",
              "49   69   95.24\n",
              "50   70   94.74\n",
              "41   61   93.75\n",
              "51   71   93.75\n",
              "37   57   92.37\n",
              "35   55   91.10\n",
              "34   54   90.17\n",
              "24   44   89.32\n",
              "25   45   88.89"
            ]
          },
          "metadata": {
            "tags": []
          },
          "execution_count": 128
        }
      ]
    },
    {
      "metadata": {
        "id": "_d6lygODPpSr",
        "colab_type": "code",
        "outputId": "e3643f4a-d65d-46f2-dd1a-3f510b587300",
        "colab": {
          "base_uri": "https://localhost:8080/",
          "height": 376
        }
      },
      "cell_type": "code",
      "source": [
        "# For people who earn >50k USD, shows by percent, Top 10 Ages for Female workers\n",
        "print('For people who earn >50k USD, by percent, Top 10 Ages where it is primarily Female workers')\n",
        "age_gender_income_g50k_merge[['age','p_female']].nlargest(10, 'p_female')"
      ],
      "execution_count": 129,
      "outputs": [
        {
          "output_type": "stream",
          "text": [
            "For people who earn >50k USD, by percent, Top 10 Ages where it is primarily Female workers\n"
          ],
          "name": "stdout"
        },
        {
          "output_type": "execute_result",
          "data": {
            "text/html": [
              "<div>\n",
              "<style scoped>\n",
              "    .dataframe tbody tr th:only-of-type {\n",
              "        vertical-align: middle;\n",
              "    }\n",
              "\n",
              "    .dataframe tbody tr th {\n",
              "        vertical-align: top;\n",
              "    }\n",
              "\n",
              "    .dataframe thead th {\n",
              "        text-align: right;\n",
              "    }\n",
              "</style>\n",
              "<table border=\"1\" class=\"dataframe\">\n",
              "  <thead>\n",
              "    <tr style=\"text-align: right;\">\n",
              "      <th></th>\n",
              "      <th>age</th>\n",
              "      <th>p_female</th>\n",
              "    </tr>\n",
              "  </thead>\n",
              "  <tbody>\n",
              "    <tr>\n",
              "      <th>1</th>\n",
              "      <td>21</td>\n",
              "      <td>66.67</td>\n",
              "    </tr>\n",
              "    <tr>\n",
              "      <th>0</th>\n",
              "      <td>19</td>\n",
              "      <td>50.00</td>\n",
              "    </tr>\n",
              "    <tr>\n",
              "      <th>2</th>\n",
              "      <td>22</td>\n",
              "      <td>30.77</td>\n",
              "    </tr>\n",
              "    <tr>\n",
              "      <th>5</th>\n",
              "      <td>25</td>\n",
              "      <td>28.30</td>\n",
              "    </tr>\n",
              "    <tr>\n",
              "      <th>7</th>\n",
              "      <td>27</td>\n",
              "      <td>25.93</td>\n",
              "    </tr>\n",
              "    <tr>\n",
              "      <th>4</th>\n",
              "      <td>24</td>\n",
              "      <td>25.81</td>\n",
              "    </tr>\n",
              "    <tr>\n",
              "      <th>8</th>\n",
              "      <td>28</td>\n",
              "      <td>25.21</td>\n",
              "    </tr>\n",
              "    <tr>\n",
              "      <th>57</th>\n",
              "      <td>90</td>\n",
              "      <td>25.00</td>\n",
              "    </tr>\n",
              "    <tr>\n",
              "      <th>9</th>\n",
              "      <td>29</td>\n",
              "      <td>23.88</td>\n",
              "    </tr>\n",
              "    <tr>\n",
              "      <th>6</th>\n",
              "      <td>26</td>\n",
              "      <td>22.22</td>\n",
              "    </tr>\n",
              "  </tbody>\n",
              "</table>\n",
              "</div>"
            ],
            "text/plain": [
              "    age  p_female\n",
              "1    21     66.67\n",
              "0    19     50.00\n",
              "2    22     30.77\n",
              "5    25     28.30\n",
              "7    27     25.93\n",
              "4    24     25.81\n",
              "8    28     25.21\n",
              "57   90     25.00\n",
              "9    29     23.88\n",
              "6    26     22.22"
            ]
          },
          "metadata": {
            "tags": []
          },
          "execution_count": 129
        }
      ]
    },
    {
      "metadata": {
        "id": "hjyuBmyJ04px",
        "colab_type": "text"
      },
      "cell_type": "markdown",
      "source": [
        "# Final Comments:\n",
        "\n",
        "As stated in the summary, more work needs to be done to determine how much weight Age and Gender have on income in comparison to Education, Race, Workhours, etc."
      ]
    }
  ]
}
